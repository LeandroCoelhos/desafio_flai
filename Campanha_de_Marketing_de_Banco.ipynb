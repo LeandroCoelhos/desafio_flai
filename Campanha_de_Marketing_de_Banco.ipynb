{
  "nbformat": 4,
  "nbformat_minor": 0,
  "metadata": {
    "celltoolbar": "Tags",
    "colab": {
      "name": "Campanha de Marketing de Banco.ipynb",
      "provenance": [],
      "collapsed_sections": [
        "bX-Ivr6gWW1_"
      ],
      "toc_visible": true,
      "include_colab_link": true
    },
    "kernelspec": {
      "display_name": "Python 3",
      "language": "python",
      "name": "python3"
    },
    "language_info": {
      "codemirror_mode": {
        "name": "ipython",
        "version": 3
      },
      "file_extension": ".py",
      "mimetype": "text/x-python",
      "name": "python",
      "nbconvert_exporter": "python",
      "pygments_lexer": "ipython3",
      "version": "3.8.5"
    }
  },
  "cells": [
    {
      "cell_type": "markdown",
      "metadata": {
        "id": "view-in-github",
        "colab_type": "text"
      },
      "source": [
        "<a href=\"https://colab.research.google.com/github/LeandroCoelhos/desafio_flai/blob/main/Campanha_de_Marketing_de_Banco.ipynb\" target=\"_parent\"><img src=\"https://colab.research.google.com/assets/colab-badge.svg\" alt=\"Open In Colab\"/></a>"
      ]
    },
    {
      "cell_type": "markdown",
      "metadata": {
        "id": "bSWpRNXrBt90"
      },
      "source": [
        "<h1 align='center' >Campanha de Marketing de Banco</h1>\n",
        "\n",
        "\n",
        "\n",
        "<img align='center' src=\"https://raw.githubusercontent.com/LeandroCoelhos/desafio_flai/main/data/TituloCompeti%C3%A7%C3%A3o.jpg\">\n",
        "\n",
        "\n",
        "---\n",
        "\n",
        "\n",
        "\n",
        "Atualmente ouvimos muito falar de Machine Learning, mas você sabe o que é? Quais aplicações tem? Por onde começar? Esse projeto não promete responder a todas as suas perguntas, mas pode ser um bom ponto de partida e te ajudar com algumas implementações.\n",
        "\n",
        "Como proposta para o 3º Desafio de Machine Learning da Flai, dado um conjunto de dados de uma campanha de marketing para prever se um cliente faria um depósito ou não. Esse é um problema comum em campanhas de marketing e a aplicação de machine learning em conjunto com a análise de dados nos ajudará a dizer qual clientes e em quais períodos devemos focar nossos esforços, para reduzir os custos e aumentar os lucros.\n",
        "\n",
        "  O objetivo principal do desafio era modelar uma solução que apresentasse o melhor F1-Score na previsão de depósitos segundo os dados fornecidos. \n",
        "\n",
        "Vamos abordar aqui algumas técnicas de pré-processamento e de predição que nos levaram ao terceiro lugar na competição. Vamos tentar entender quais fatores levam um cliente a realizar um depósito ou não, tentando responder algumas perguntas sobre o perfil do cliente:\n",
        "1. Fatores como Idade, Trabalho, nível de educação e estado civil tem alguma ligação com a realização de depósitos?\n",
        "2. Se o cliente possui casa própria, é inadimplente e o saldo que possui em conta tem alguma representatividade na resposta?\n",
        "3. Campanhas anteriores, números de contatos, meio do contato ou o mês de contato geram maior impacto sobre o cliente?\n",
        "\n",
        "Para responder a essas perguntas e obtermos uma boa predição seguiremos algumas etapas:\n",
        "* Entendimento do problema\n",
        "* Obtenção dos dados\n",
        "* Análise exploratória dos dados\n",
        "* Pré-Processamento\n",
        "* Modelagem\n",
        "* Combinação de Modelos\n",
        "\n",
        "\n",
        "\n",
        "**Resumo do que será abordado neste projeto**\n",
        "\n",
        "Competição de classificação binária (se houve depósito ou não) a partir de um conjunto com variáveis qualitativas e quantitativas sem valores faltantes. Foi feita uma análise exploratória e manipulação das variáveis. Como método de validação foi utilizado o K-Fold (10-Folds) estratificado com a métrica F1-Score. Dentre os modelos de aprendizagem de máquina, se destacaram o Randon Forest, Support Vector Machine e Gradient Boosting. Para solução final foi utilizado a combinação destes três modelos com o método Hard, depois de um GridSearch dos melhores hiperparâmetros. O F1-Score alcançado: 69,63 %.\n",
        "\n",
        "---\n",
        "<img src=\"https://raw.githubusercontent.com/LeandroCoelhos/desafio_flai/main/data/CorpoCompeti%C3%A7%C3%A3o.jpg\" />\n",
        "\n",
        "\n",
        "---\n",
        "\n",
        "\n"
      ]
    },
    {
      "cell_type": "markdown",
      "metadata": {
        "id": "jzo4wRD9IzoC"
      },
      "source": [
        "#Sumário\n",
        "1. Importação dos dados\n",
        "2. Análise Exploratória\n",
        "3. Pré-processamento\n",
        "4. Modelagem\n",
        "5. Busca por Melhores Hiperparâmetros\n",
        "6. Combinação por votos\n",
        "7. Submissão\n",
        "8. Conclusões\n",
        "9. Considerações"
      ]
    },
    {
      "cell_type": "markdown",
      "metadata": {
        "id": "GMd5mJt-iD8v"
      },
      "source": [
        "# 1 Importação dos dados\n",
        "\n"
      ]
    },
    {
      "cell_type": "markdown",
      "metadata": {
        "id": "bX-Ivr6gWW1_"
      },
      "source": [
        "##1.1 Bibliotecas\n",
        "Primeiro, devemos importar algumas bibliotecas. _Pandas_ e _Numpy_ para manipulação do Conjunto de Dados, _Seaborn_ e _Matplot_ para criação de gráficos."
      ]
    },
    {
      "cell_type": "code",
      "metadata": {
        "id": "_pL4qAcyJklO"
      },
      "source": [
        "import pandas as pd \n",
        "import numpy as  np \n",
        "import seaborn as sns \n",
        "import matplotlib.pyplot as plt \n",
        "\n",
        "from sklearn.preprocessing import StandardScaler #Para normalização de intervalos\n",
        "\n",
        "#from sklearn.feature_selection import SelectFromModel #seleção de váriaveis pela importancia nos resultados\n",
        "#from matplotlib.axes._axes import _log as matplotlib_axes_logger\n",
        "#Algorítimos de aprendizagem\n",
        "from sklearn.ensemble import RandomTreesEmbedding, ExtraTreesClassifier, AdaBoostClassifier, GradientBoostingClassifier, VotingClassifier\n",
        "from sklearn.ensemble import RandomForestClassifier\n",
        "from sklearn.model_selection import cross_validate, RepeatedStratifiedKFold \n",
        "from sklearn.linear_model import LogisticRegression, Perceptron, PassiveAggressiveClassifier\n",
        "from sklearn.discriminant_analysis import LinearDiscriminantAnalysis, QuadraticDiscriminantAnalysis\n",
        "from sklearn.neighbors import KNeighborsClassifier\n",
        "from sklearn.ensemble import BaggingClassifier\n",
        "from sklearn.neural_network import MLPClassifier \n",
        "from sklearn.tree import DecisionTreeClassifier\n",
        "from sklearn.svm import SVC\n",
        "from sklearn.naive_bayes import GaussianNB\n",
        "from sklearn.dummy import DummyClassifier\n",
        "\n",
        "#Modelos de busca por melhores parâmetros de modelos\n",
        "from sklearn.model_selection import GridSearchCV\n",
        "from sklearn.model_selection import RandomizedSearchCV\n",
        "from time import time#contagem de tempo para execução de tarefas"
      ],
      "execution_count": 96,
      "outputs": []
    },
    {
      "cell_type": "markdown",
      "metadata": {
        "id": "fA3weINJnQ3S"
      },
      "source": [
        "##1.2 Importação do Conjunto de dados\n",
        "O conjunto **Treino** contem a variável resposta de interesse (_term_depoisit_)  e o conjunto **Teste** contem todas as colunas do conjunto de treino, menos a variável resposta. O Treino é o conjunto que deve ser _predito_ pelo modelo criado e enviado para submissão da competição."
      ]
    },
    {
      "cell_type": "code",
      "metadata": {
        "id": "-KgspkHR-6p_"
      },
      "source": [
        "# importanto os conjuntos de dados disponíveis nesta mesma pasta Data\n",
        "treino = pd.read_csv('https://raw.githubusercontent.com/LeandroCoelhos/desafio_flai/main/data/treino.csv')\n",
        "sub = pd.read_csv('https://raw.githubusercontent.com/LeandroCoelhos/desafio_flai/main/data/teste.csv')"
      ],
      "execution_count": 97,
      "outputs": []
    },
    {
      "cell_type": "markdown",
      "metadata": {
        "id": "fVS7qETjP2Es"
      },
      "source": [
        "#2 Análise Exploratória de Dados\n"
      ]
    },
    {
      "cell_type": "markdown",
      "metadata": {
        "id": "dVgcK-21Uoz9"
      },
      "source": [
        "##2.1 Valores nulos e tipos de colunas"
      ]
    },
    {
      "cell_type": "code",
      "metadata": {
        "colab": {
          "base_uri": "https://localhost:8080/"
        },
        "id": "uQcuGR3qaVQv",
        "outputId": "97149e7c-d05f-4ec3-d2cc-0725c49eb71d"
      },
      "source": [
        "print(\"Valores no Conjunto de TREINO:\\n\")\n",
        "print(treino.info())"
      ],
      "execution_count": 98,
      "outputs": [
        {
          "output_type": "stream",
          "text": [
            "Valores no Conjunto de TREINO:\n",
            "\n",
            "<class 'pandas.core.frame.DataFrame'>\n",
            "RangeIndex: 6500 entries, 0 to 6499\n",
            "Data columns (total 17 columns):\n",
            " #   Column        Non-Null Count  Dtype \n",
            "---  ------        --------------  ----- \n",
            " 0   Unnamed: 0    6500 non-null   int64 \n",
            " 1   age           6500 non-null   int64 \n",
            " 2   job           6500 non-null   object\n",
            " 3   marital       6500 non-null   object\n",
            " 4   education     6500 non-null   object\n",
            " 5   default       6500 non-null   object\n",
            " 6   balance       6500 non-null   int64 \n",
            " 7   housing       6500 non-null   object\n",
            " 8   loan          6500 non-null   object\n",
            " 9   contact       6500 non-null   object\n",
            " 10  day           6500 non-null   int64 \n",
            " 11  month         6500 non-null   object\n",
            " 12  campaign      6500 non-null   int64 \n",
            " 13  pdays         6500 non-null   int64 \n",
            " 14  previous      6500 non-null   int64 \n",
            " 15  poutcome      6500 non-null   object\n",
            " 16  term_deposit  6500 non-null   object\n",
            "dtypes: int64(7), object(10)\n",
            "memory usage: 863.4+ KB\n",
            "None\n"
          ],
          "name": "stdout"
        }
      ]
    },
    {
      "cell_type": "code",
      "metadata": {
        "colab": {
          "base_uri": "https://localhost:8080/"
        },
        "id": "qIBq90JvXII0",
        "outputId": "69f53340-5f09-41cc-9135-17d0f2ba76c0"
      },
      "source": [
        "print(\"\\n\\nValores no Conjunto da Submissão:\\n\")\n",
        "print(sub.info())"
      ],
      "execution_count": 99,
      "outputs": [
        {
          "output_type": "stream",
          "text": [
            "\n",
            "\n",
            "Valores no Conjunto da Submissão:\n",
            "\n",
            "<class 'pandas.core.frame.DataFrame'>\n",
            "RangeIndex: 1422 entries, 0 to 1421\n",
            "Data columns (total 16 columns):\n",
            " #   Column      Non-Null Count  Dtype \n",
            "---  ------      --------------  ----- \n",
            " 0   Unnamed: 0  1422 non-null   int64 \n",
            " 1   age         1422 non-null   int64 \n",
            " 2   job         1422 non-null   object\n",
            " 3   marital     1422 non-null   object\n",
            " 4   education   1422 non-null   object\n",
            " 5   default     1422 non-null   object\n",
            " 6   balance     1422 non-null   int64 \n",
            " 7   housing     1422 non-null   object\n",
            " 8   loan        1422 non-null   object\n",
            " 9   contact     1422 non-null   object\n",
            " 10  day         1422 non-null   int64 \n",
            " 11  month       1422 non-null   object\n",
            " 12  campaign    1422 non-null   int64 \n",
            " 13  pdays       1422 non-null   int64 \n",
            " 14  previous    1422 non-null   int64 \n",
            " 15  poutcome    1422 non-null   object\n",
            "dtypes: int64(7), object(9)\n",
            "memory usage: 177.9+ KB\n",
            "None\n"
          ],
          "name": "stdout"
        }
      ]
    },
    {
      "cell_type": "markdown",
      "metadata": {
        "id": "4uXPzeV57CRg"
      },
      "source": [
        "O comando \"info\" mostra o total de observações em cada coluna, bem como o tipo de dado daquela coluna, se é numérico ou texto. \n",
        "\n",
        "Ambos conjuntos de dados possuem a quantia de linhas que foram informadas pelo enunciado da competição (6500 treino, e 1422 submissão). Mostrando que não há dados faltantes. Caso houvesse, poderíamos utilizar a média ou a mediana para preencher esses dados para os numéricos, ou utilizar um algoritmo, como o KNN para preencher esses dados com uma predição no próprio conjunto.\n",
        "\n",
        "Podemos ver que há variáveis numéricas (int64) e string (object). Muitos algoritmos não suportam strings, por isso precisaremos transformar essas colunas futuramente."
      ]
    },
    {
      "cell_type": "markdown",
      "metadata": {
        "id": "TeKuGmmBR_l_"
      },
      "source": [
        "##2.2 Vizualização do Conjunto de dados\n",
        "Como o objetivo é tentar prever a realização de depósito, trabalharemos apenas com o conjunto de dados de Treinamento (que possui a variável resposta) para realizar o treinamento de algoritmos supervisionados.\n",
        "\n",
        "O comando _head_ oferece as primeiras linhas do conjunto de dados.\n",
        "\n"
      ]
    },
    {
      "cell_type": "code",
      "metadata": {
        "colab": {
          "base_uri": "https://localhost:8080/",
          "height": 206
        },
        "id": "TAOQmZP_Sy4V",
        "outputId": "5d762f96-65fa-442f-e85f-42dca0d68c43"
      },
      "source": [
        "treino.head()"
      ],
      "execution_count": 100,
      "outputs": [
        {
          "output_type": "execute_result",
          "data": {
            "text/html": [
              "<div>\n",
              "<style scoped>\n",
              "    .dataframe tbody tr th:only-of-type {\n",
              "        vertical-align: middle;\n",
              "    }\n",
              "\n",
              "    .dataframe tbody tr th {\n",
              "        vertical-align: top;\n",
              "    }\n",
              "\n",
              "    .dataframe thead th {\n",
              "        text-align: right;\n",
              "    }\n",
              "</style>\n",
              "<table border=\"1\" class=\"dataframe\">\n",
              "  <thead>\n",
              "    <tr style=\"text-align: right;\">\n",
              "      <th></th>\n",
              "      <th>Unnamed: 0</th>\n",
              "      <th>age</th>\n",
              "      <th>job</th>\n",
              "      <th>marital</th>\n",
              "      <th>education</th>\n",
              "      <th>default</th>\n",
              "      <th>balance</th>\n",
              "      <th>housing</th>\n",
              "      <th>loan</th>\n",
              "      <th>contact</th>\n",
              "      <th>day</th>\n",
              "      <th>month</th>\n",
              "      <th>campaign</th>\n",
              "      <th>pdays</th>\n",
              "      <th>previous</th>\n",
              "      <th>poutcome</th>\n",
              "      <th>term_deposit</th>\n",
              "    </tr>\n",
              "  </thead>\n",
              "  <tbody>\n",
              "    <tr>\n",
              "      <th>0</th>\n",
              "      <td>0</td>\n",
              "      <td>46</td>\n",
              "      <td>management</td>\n",
              "      <td>divorced</td>\n",
              "      <td>tertiary</td>\n",
              "      <td>no</td>\n",
              "      <td>14481</td>\n",
              "      <td>yes</td>\n",
              "      <td>no</td>\n",
              "      <td>unknown</td>\n",
              "      <td>30</td>\n",
              "      <td>may</td>\n",
              "      <td>1</td>\n",
              "      <td>-1</td>\n",
              "      <td>0</td>\n",
              "      <td>unknown</td>\n",
              "      <td>yes</td>\n",
              "    </tr>\n",
              "    <tr>\n",
              "      <th>1</th>\n",
              "      <td>1</td>\n",
              "      <td>37</td>\n",
              "      <td>management</td>\n",
              "      <td>single</td>\n",
              "      <td>tertiary</td>\n",
              "      <td>no</td>\n",
              "      <td>457</td>\n",
              "      <td>yes</td>\n",
              "      <td>no</td>\n",
              "      <td>cellular</td>\n",
              "      <td>1</td>\n",
              "      <td>apr</td>\n",
              "      <td>3</td>\n",
              "      <td>-1</td>\n",
              "      <td>0</td>\n",
              "      <td>unknown</td>\n",
              "      <td>no</td>\n",
              "    </tr>\n",
              "    <tr>\n",
              "      <th>2</th>\n",
              "      <td>2</td>\n",
              "      <td>34</td>\n",
              "      <td>blue-collar</td>\n",
              "      <td>single</td>\n",
              "      <td>secondary</td>\n",
              "      <td>no</td>\n",
              "      <td>1698</td>\n",
              "      <td>yes</td>\n",
              "      <td>no</td>\n",
              "      <td>unknown</td>\n",
              "      <td>27</td>\n",
              "      <td>may</td>\n",
              "      <td>7</td>\n",
              "      <td>-1</td>\n",
              "      <td>0</td>\n",
              "      <td>unknown</td>\n",
              "      <td>no</td>\n",
              "    </tr>\n",
              "    <tr>\n",
              "      <th>3</th>\n",
              "      <td>3</td>\n",
              "      <td>45</td>\n",
              "      <td>unemployed</td>\n",
              "      <td>single</td>\n",
              "      <td>secondary</td>\n",
              "      <td>no</td>\n",
              "      <td>33</td>\n",
              "      <td>no</td>\n",
              "      <td>no</td>\n",
              "      <td>cellular</td>\n",
              "      <td>5</td>\n",
              "      <td>feb</td>\n",
              "      <td>1</td>\n",
              "      <td>-1</td>\n",
              "      <td>0</td>\n",
              "      <td>unknown</td>\n",
              "      <td>no</td>\n",
              "    </tr>\n",
              "    <tr>\n",
              "      <th>4</th>\n",
              "      <td>4</td>\n",
              "      <td>31</td>\n",
              "      <td>management</td>\n",
              "      <td>married</td>\n",
              "      <td>tertiary</td>\n",
              "      <td>no</td>\n",
              "      <td>131</td>\n",
              "      <td>no</td>\n",
              "      <td>no</td>\n",
              "      <td>cellular</td>\n",
              "      <td>18</td>\n",
              "      <td>feb</td>\n",
              "      <td>2</td>\n",
              "      <td>-1</td>\n",
              "      <td>0</td>\n",
              "      <td>unknown</td>\n",
              "      <td>yes</td>\n",
              "    </tr>\n",
              "  </tbody>\n",
              "</table>\n",
              "</div>"
            ],
            "text/plain": [
              "   Unnamed: 0  age          job  ... previous poutcome term_deposit\n",
              "0           0   46   management  ...        0  unknown          yes\n",
              "1           1   37   management  ...        0  unknown           no\n",
              "2           2   34  blue-collar  ...        0  unknown           no\n",
              "3           3   45   unemployed  ...        0  unknown           no\n",
              "4           4   31   management  ...        0  unknown          yes\n",
              "\n",
              "[5 rows x 17 columns]"
            ]
          },
          "metadata": {
            "tags": []
          },
          "execution_count": 100
        }
      ]
    },
    {
      "cell_type": "markdown",
      "metadata": {
        "id": "KS273d1wpyS4"
      },
      "source": [
        "##2.3 Separando colunas categóricas e numéricas\n",
        "Vamos mapear o conjunto de dados em colunas do tipo _objeto_ e as numericas (_int64_).\n",
        "\n",
        "Faremos essa análise separadamente, pois para cada tipo de coluna traz uma informação diferente dos dados.\n"
      ]
    },
    {
      "cell_type": "code",
      "metadata": {
        "id": "ud1OJ2B9sUQA"
      },
      "source": [
        "coluna_numerica = treino.columns[treino.dtypes == \"int64\"] #Colunas de variáveis numericas\n",
        "coluna_object = treino.columns[treino.dtypes == \"object\"] #Colunas do tipo numéricas"
      ],
      "execution_count": 101,
      "outputs": []
    },
    {
      "cell_type": "markdown",
      "metadata": {
        "id": "nfkuKBhAo3FM"
      },
      "source": [
        "###2.3.1 Colunas Categóricas\n",
        "\n",
        "Vamos fazer uma contagem das observações e categorias de cada coluna, para termos uma noção de como nosso conjunto de dados esta distribuido.\n"
      ]
    },
    {
      "cell_type": "code",
      "metadata": {
        "colab": {
          "base_uri": "https://localhost:8080/"
        },
        "id": "qSfjglrKZal7",
        "outputId": "1e649313-4913-44de-c416-aa6277203d7e"
      },
      "source": [
        "for i in coluna_object:\n",
        "  print(\"Coluna: \",i)\n",
        "  print(treino[i].value_counts(), \"\\n\")"
      ],
      "execution_count": 102,
      "outputs": [
        {
          "output_type": "stream",
          "text": [
            "Coluna:  job\n",
            "management       1473\n",
            "blue-collar      1240\n",
            "technician       1045\n",
            "admin.            748\n",
            "services          579\n",
            "retired           397\n",
            "self-employed     240\n",
            "unemployed        219\n",
            "entrepreneur      188\n",
            "student           171\n",
            "housemaid         162\n",
            "unknown            38\n",
            "Name: job, dtype: int64 \n",
            "\n",
            "Coluna:  marital\n",
            "married     3686\n",
            "single      2035\n",
            "divorced     779\n",
            "Name: marital, dtype: int64 \n",
            "\n",
            "Coluna:  education\n",
            "secondary    3220\n",
            "tertiary     2117\n",
            "primary       893\n",
            "unknown       270\n",
            "Name: education, dtype: int64 \n",
            "\n",
            "Coluna:  default\n",
            "no     6403\n",
            "yes      97\n",
            "Name: default, dtype: int64 \n",
            "\n",
            "Coluna:  housing\n",
            "yes    3253\n",
            "no     3247\n",
            "Name: housing, dtype: int64 \n",
            "\n",
            "Coluna:  loan\n",
            "no     5621\n",
            "yes     879\n",
            "Name: loan, dtype: int64 \n",
            "\n",
            "Coluna:  contact\n",
            "cellular     4634\n",
            "unknown      1445\n",
            "telephone     421\n",
            "Name: contact, dtype: int64 \n",
            "\n",
            "Coluna:  month\n",
            "may    1720\n",
            "aug     918\n",
            "jul     889\n",
            "jun     746\n",
            "nov     604\n",
            "apr     578\n",
            "feb     381\n",
            "oct     211\n",
            "jan     137\n",
            "mar     113\n",
            "sep     113\n",
            "dec      90\n",
            "Name: month, dtype: int64 \n",
            "\n",
            "Coluna:  poutcome\n",
            "unknown    5233\n",
            "failure     650\n",
            "success     369\n",
            "other       248\n",
            "Name: poutcome, dtype: int64 \n",
            "\n",
            "Coluna:  term_deposit\n",
            "no     3267\n",
            "yes    3233\n",
            "Name: term_deposit, dtype: int64 \n",
            "\n"
          ],
          "name": "stdout"
        }
      ]
    },
    {
      "cell_type": "markdown",
      "metadata": {
        "id": "rqpUjHhbaWAC"
      },
      "source": [
        "\n",
        "Agora temos uma noção de como estão distribuídas as categorias.\n",
        "É possível ver que a coluna _default_ (inadimplentes) tem uma relação de menos de 2% dos dados como inadimplentes. Outras colunas também apresentam uma grande concentração em uma única categoria, vamos fazer uma análise gráfica para tirar mais algumas informações.\n"
      ]
    },
    {
      "cell_type": "markdown",
      "metadata": {
        "id": "AKr14tjtxxsF"
      },
      "source": [
        "####2.3.1.1 Análise Gráfica Variáveis Categóricas\n",
        "Aqui vamos buscar relações entre a chance de realizar o depósito com alguma das colunas categóricas. \n",
        "Essa visão nos permite inferir algumas informações sobre o impacto de cada categoria sob a variável resposta de interesse (_term_deposit_)."
      ]
    },
    {
      "cell_type": "code",
      "metadata": {
        "colab": {
          "base_uri": "https://localhost:8080/",
          "height": 1000
        },
        "id": "HOFWt4-zMkwb",
        "outputId": "f6b1d127-00e5-4229-f665-2ff158a29ff9"
      },
      "source": [
        "f, ax = plt.subplots(figsize=(20, 30))\n",
        "for i in range(1,11):\n",
        "  plt.subplot(5,2,i)\n",
        "  sns.countplot(data = treino, y=coluna_object[i-1], hue='term_deposit')"
      ],
      "execution_count": 103,
      "outputs": [
        {
          "output_type": "display_data",
          "data": {
            "image/png": "[encoded data removed]",
            "text/plain": [
              "<Figure size 1440x2160 with 10 Axes>"
            ]
          },
          "metadata": {
            "tags": [],
            "needs_background": "light"
          }
        }
      ]
    },
    {
      "cell_type": "markdown",
      "metadata": {
        "id": "iVD5Ntw8dDZU"
      },
      "source": [
        "\n",
        "Podemos observar que aqueles que não tem casa própria (_housing_) tem uma maior chance de realizar um depósito. \n",
        "\n",
        "Também notamos essa relação no tipo de emprego (_job_), em que _blue collar_ tem uma chance menor de realizar o depósito.\n",
        "\n",
        "Observamos também que  solteiros tem maior chance de realizar um depósito, se comparado com os casados, que tem menor chance.\n",
        "\n",
        "Quanto as informações relacionadas a campanha, vemos que o meio de contato e o mês em que a campanha foi realizada tem pesos consideráveis para variável resposta.\n",
        "\n",
        "Já para se a pessoa é inadiplente  ou não (_default_) temos uma relação praticamente neutra."
      ]
    },
    {
      "cell_type": "markdown",
      "metadata": {
        "id": "XihpTk43V78f"
      },
      "source": [
        "###2.3.2 Colunas Numéricas"
      ]
    },
    {
      "cell_type": "markdown",
      "metadata": {
        "id": "x3ocWnaAeAG5"
      },
      "source": [
        "####2.3.2.1 Gráfico Variáveis numericas\n",
        "Para as variáveis numéricas faremos um gráfico que criar pequenos agrupamentos de valores parecidos e ver sua representatividade no conjunto de dados ao mesmo tempo que analisamos comparativamente com a variável resposta."
      ]
    },
    {
      "cell_type": "code",
      "metadata": {
        "colab": {
          "base_uri": "https://localhost:8080/",
          "height": 1000
        },
        "id": "9WcLmT9WhwBi",
        "outputId": "e4975f38-33be-4fcc-d93e-c98d3398d8dc"
      },
      "source": [
        "f, ax = plt.subplots(figsize=(20, 30))\n",
        "for i in range(1,7):\n",
        "  plt.subplot(3,2,i)\n",
        "  sns.histplot(treino, x=coluna_numerica[i], hue='term_deposit')\n",
        "  ax.xaxis.grid(True)\n",
        "  sns.despine(trim=True, left=True)"
      ],
      "execution_count": 104,
      "outputs": [
        {
          "output_type": "display_data",
          "data": {
            "image/png": "[encoded data removed]",
            "text/plain": [
              "<Figure size 1440x2160 with 6 Axes>"
            ]
          },
          "metadata": {
            "tags": [],
            "needs_background": "light"
          }
        }
      ]
    },
    {
      "cell_type": "markdown",
      "metadata": {
        "id": "mXDu1UHSfO41"
      },
      "source": [
        "Devido a grande amplitude de alguns dados, a interpretação dos gráficos fica um pouco prejudicada, mas podemos observar que para a idade (_age_) a maioria dos clientes se encontra entre os 30 e 50 anos, sendo mais propensos a não realizarem o depósito entre os 30 e os 60 anos. Nas outras faixas predominam a realização de depósito.\n",
        "\n",
        "Para alguns dias do mês verificamos a mesma propensão, entretanto esta é uma variável que tem ligação com o mês, então precisamos ter cuidado com variáveis relacionadas a outras.\n"
      ]
    },
    {
      "cell_type": "markdown",
      "metadata": {
        "id": "GAIioCRliC0p"
      },
      "source": [
        "####2.3.2.2 Identificando Outliers\n",
        "Vamos utilizar um gráfico boxplot para vizualizar a distribuição dos dados em suas faixas de valores.\n",
        "\n",
        "A faixa central do gráfico mostra a mediana (termo central), os quartis limitados pela caixa, e os valores muito acima ou muito baixo dos quartis.\n",
        "\n",
        "Essa análise nos ajuda a identificar valores muito discrepantes em relação aos demais, e onde se concentram a maioria dos valores.\n"
      ]
    },
    {
      "cell_type": "code",
      "metadata": {
        "colab": {
          "base_uri": "https://localhost:8080/",
          "height": 606
        },
        "id": "A_iU03kO1qwk",
        "outputId": "277e9ca8-0b34-4c3a-88c4-8aafe7140e3c"
      },
      "source": [
        "f, ax = plt.subplots(figsize=(20, 10))\n",
        "\n",
        "for i in range(1,7):\n",
        "  plt.subplot(3,2,i)\n",
        "  sns.boxplot(x = treino[coluna_numerica[i]], width=.6, palette=\"BuGn\")\n",
        "  ax.xaxis.grid(True)\n",
        "  ax.set(ylabel=\"\")\n",
        "  sns.despine(trim=True, left=True)\n"
      ],
      "execution_count": 62,
      "outputs": [
        {
          "output_type": "display_data",
          "data": {
            "image/png": "[encoded data removed]",
            "text/plain": [
              "<Figure size 1440x720 with 6 Axes>"
            ]
          },
          "metadata": {
            "tags": [],
            "needs_background": "light"
          }
        }
      ]
    },
    {
      "cell_type": "markdown",
      "metadata": {
        "id": "QTKfQBaDih0O"
      },
      "source": [
        "O saldo em conta (_balance_) possui 90% dos valores em uma faixa abaixo de 5 mil, com a média concentrada em valores próximos de zero e alguns valores acima dos 5 mil. Para esses clientes com um grande saldo em conta, pode ser interessante a segmentação bem como para clientes com valores de saldo negativo, e implementar estratégias de marketing diferentes.\n",
        "\n",
        "Aqui vemos as colunas que se referem ao contato anterior com o cliente centradas em valores baixos. Devemos fazer uma comparação entre elas e descobrir se há alguma relação."
      ]
    },
    {
      "cell_type": "markdown",
      "metadata": {
        "id": "MF_fcQVFWZWY"
      },
      "source": [
        "####2.3.2.3 Identificação de uma particularidade nos dados"
      ]
    },
    {
      "cell_type": "code",
      "metadata": {
        "colab": {
          "base_uri": "https://localhost:8080/"
        },
        "id": "lH8aP3i4hBbh",
        "outputId": "6de2b4f9-285b-478e-f1a4-a51df6996b52"
      },
      "source": [
        "pday = treino['pdays'].value_counts()[0:3,] #retorna os valores mais frequentes\n",
        "prev = treino['previous'].value_counts()[0:3,]\n",
        "pout = treino['poutcome'].value_counts()[0:3,]\n",
        "print(\"3 valores mais frequentes em:\\nPdays\\n\", pday, \"\\nPrevious\\n\", prev, \"\\nPoutcome\\n\", pout)\n",
        "\n",
        "#Relacionando essas 3 colunas com o valor mais frequente\n",
        "relacao = treino[(treino['pdays'] == -1) & (treino['previous'] == 0) & \n",
        "       (treino['poutcome'] == 'unknown')]['term_deposit'].count()\n",
        "print(\"\\nEsses valores aparecem em: \", relacao, \"  linhas simultaneamente\") "
      ],
      "execution_count": 63,
      "outputs": [
        {
          "output_type": "stream",
          "text": [
            "3 valores mais frequentes em:\n",
            "Pdays\n",
            " -1     5231\n",
            " 91      23\n",
            " 92      21\n",
            "Name: pdays, dtype: int64 \n",
            "Previous\n",
            " 0    5231\n",
            "1     488\n",
            "2     324\n",
            "Name: previous, dtype: int64 \n",
            "Poutcome\n",
            " unknown    5233\n",
            "failure     650\n",
            "success     369\n",
            "Name: poutcome, dtype: int64\n",
            "\n",
            "Esses valores aparecem em:  5231   linhas simultaneamente\n"
          ],
          "name": "stdout"
        }
      ]
    },
    {
      "cell_type": "markdown",
      "metadata": {
        "id": "tWLGW_v5iZZG"
      },
      "source": [
        "\n",
        "\n",
        "Como parte do entendimento do problema de negócio, foi possível inferir que as colunas _pdays, pouctome_ e _ previous_ apresentam mais de 5200 observações \"iguais\" e simultâneas. Essas colunas se referem aos: \n",
        ">* Dias desde o último contato;\n",
        ">* Resultados da campanha de marketing anterior;\n",
        ">* Números de contatos realizados antes da campanha atual.\n",
        "\n",
        "Esse resultado faz sentido pois se é um cliente novo, faz sentido ele não ter sido contatado em uma campanha anterior (pdays -1) e portanto, não tem resultado da campanha anterior (campaign 0) e portanto nenhuma quantia de contatos prévio (previous 0)."
      ]
    },
    {
      "cell_type": "markdown",
      "metadata": {
        "id": "ry1Q3RmyeVe1"
      },
      "source": [
        "#3 Pré-Processamento\n",
        "Com a de exploração de dados finalizada, conseguimos tirar boas conclusões do conjunto de dados e com isso determinar possíveis abordagens para o pré-processamento.\n",
        "\n",
        "Vamos realizar uma cópia do conjunto de dados e, a cada etapa, gerar um novo conjunto modificado. Quando o conjunto de dados é pequeno, manter uma cópia da etapa anterior é benéfico para que possamos voltar algumas etapas sem precisar rodar todo o código novamente, mas para grandes conjuntos isso pode se tornar um problema, devido a demanda por armazenamento.\n",
        "\n"
      ]
    },
    {
      "cell_type": "code",
      "metadata": {
        "colab": {
          "base_uri": "https://localhost:8080/",
          "height": 243
        },
        "id": "WIVkVlC_asKZ",
        "outputId": "8e6d4144-0a10-4a32-fe11-3cd675467208"
      },
      "source": [
        "data_treino = treino.iloc[:,1:] #a primeira coluna serve como indice interno, não precisamos dela\n",
        "data_sub = sub.iloc[:,1:] #\n",
        "\n",
        "print(\"Conjunto de dados de Treino. Linas X Colunas \", data_treino.shape)\n",
        "print(\"Conjunto de dados para submissão. Linhas X Colunas: \", data_sub.shape)\n",
        "data_treino.head()#mostra as primeiras linhas do conjunto"
      ],
      "execution_count": 64,
      "outputs": [
        {
          "output_type": "stream",
          "text": [
            "Conjunto de dados de Treino. Linas X Colunas  (6500, 16)\n",
            "Conjunto de dados para submissão. Linhas X Colunas:  (1422, 15)\n"
          ],
          "name": "stdout"
        },
        {
          "output_type": "execute_result",
          "data": {
            "text/html": [
              "<div>\n",
              "<style scoped>\n",
              "    .dataframe tbody tr th:only-of-type {\n",
              "        vertical-align: middle;\n",
              "    }\n",
              "\n",
              "    .dataframe tbody tr th {\n",
              "        vertical-align: top;\n",
              "    }\n",
              "\n",
              "    .dataframe thead th {\n",
              "        text-align: right;\n",
              "    }\n",
              "</style>\n",
              "<table border=\"1\" class=\"dataframe\">\n",
              "  <thead>\n",
              "    <tr style=\"text-align: right;\">\n",
              "      <th></th>\n",
              "      <th>age</th>\n",
              "      <th>job</th>\n",
              "      <th>marital</th>\n",
              "      <th>education</th>\n",
              "      <th>default</th>\n",
              "      <th>balance</th>\n",
              "      <th>housing</th>\n",
              "      <th>loan</th>\n",
              "      <th>contact</th>\n",
              "      <th>day</th>\n",
              "      <th>month</th>\n",
              "      <th>campaign</th>\n",
              "      <th>pdays</th>\n",
              "      <th>previous</th>\n",
              "      <th>poutcome</th>\n",
              "      <th>term_deposit</th>\n",
              "    </tr>\n",
              "  </thead>\n",
              "  <tbody>\n",
              "    <tr>\n",
              "      <th>0</th>\n",
              "      <td>46</td>\n",
              "      <td>management</td>\n",
              "      <td>divorced</td>\n",
              "      <td>tertiary</td>\n",
              "      <td>no</td>\n",
              "      <td>14481</td>\n",
              "      <td>yes</td>\n",
              "      <td>no</td>\n",
              "      <td>unknown</td>\n",
              "      <td>30</td>\n",
              "      <td>may</td>\n",
              "      <td>1</td>\n",
              "      <td>-1</td>\n",
              "      <td>0</td>\n",
              "      <td>unknown</td>\n",
              "      <td>yes</td>\n",
              "    </tr>\n",
              "    <tr>\n",
              "      <th>1</th>\n",
              "      <td>37</td>\n",
              "      <td>management</td>\n",
              "      <td>single</td>\n",
              "      <td>tertiary</td>\n",
              "      <td>no</td>\n",
              "      <td>457</td>\n",
              "      <td>yes</td>\n",
              "      <td>no</td>\n",
              "      <td>cellular</td>\n",
              "      <td>1</td>\n",
              "      <td>apr</td>\n",
              "      <td>3</td>\n",
              "      <td>-1</td>\n",
              "      <td>0</td>\n",
              "      <td>unknown</td>\n",
              "      <td>no</td>\n",
              "    </tr>\n",
              "    <tr>\n",
              "      <th>2</th>\n",
              "      <td>34</td>\n",
              "      <td>blue-collar</td>\n",
              "      <td>single</td>\n",
              "      <td>secondary</td>\n",
              "      <td>no</td>\n",
              "      <td>1698</td>\n",
              "      <td>yes</td>\n",
              "      <td>no</td>\n",
              "      <td>unknown</td>\n",
              "      <td>27</td>\n",
              "      <td>may</td>\n",
              "      <td>7</td>\n",
              "      <td>-1</td>\n",
              "      <td>0</td>\n",
              "      <td>unknown</td>\n",
              "      <td>no</td>\n",
              "    </tr>\n",
              "    <tr>\n",
              "      <th>3</th>\n",
              "      <td>45</td>\n",
              "      <td>unemployed</td>\n",
              "      <td>single</td>\n",
              "      <td>secondary</td>\n",
              "      <td>no</td>\n",
              "      <td>33</td>\n",
              "      <td>no</td>\n",
              "      <td>no</td>\n",
              "      <td>cellular</td>\n",
              "      <td>5</td>\n",
              "      <td>feb</td>\n",
              "      <td>1</td>\n",
              "      <td>-1</td>\n",
              "      <td>0</td>\n",
              "      <td>unknown</td>\n",
              "      <td>no</td>\n",
              "    </tr>\n",
              "    <tr>\n",
              "      <th>4</th>\n",
              "      <td>31</td>\n",
              "      <td>management</td>\n",
              "      <td>married</td>\n",
              "      <td>tertiary</td>\n",
              "      <td>no</td>\n",
              "      <td>131</td>\n",
              "      <td>no</td>\n",
              "      <td>no</td>\n",
              "      <td>cellular</td>\n",
              "      <td>18</td>\n",
              "      <td>feb</td>\n",
              "      <td>2</td>\n",
              "      <td>-1</td>\n",
              "      <td>0</td>\n",
              "      <td>unknown</td>\n",
              "      <td>yes</td>\n",
              "    </tr>\n",
              "  </tbody>\n",
              "</table>\n",
              "</div>"
            ],
            "text/plain": [
              "   age          job   marital  education  ... pdays  previous poutcome term_deposit\n",
              "0   46   management  divorced   tertiary  ...    -1         0  unknown          yes\n",
              "1   37   management    single   tertiary  ...    -1         0  unknown           no\n",
              "2   34  blue-collar    single  secondary  ...    -1         0  unknown           no\n",
              "3   45   unemployed    single  secondary  ...    -1         0  unknown           no\n",
              "4   31   management   married   tertiary  ...    -1         0  unknown          yes\n",
              "\n",
              "[5 rows x 16 columns]"
            ]
          },
          "metadata": {
            "tags": []
          },
          "execution_count": 64
        }
      ]
    },
    {
      "cell_type": "markdown",
      "metadata": {
        "id": "6oXL4APfOhbQ"
      },
      "source": [
        "##3.1 Tratando Outliers\n",
        "\n",
        "Faremos a retirada dos outliers acima ou abaixo do IQR Intervalo Inter-Quartil), para a coluna _campaign_.\n",
        "\n",
        "\n",
        ">_A retirada de valores discrepantes nem sempre é a melhor opção, entretanto está se mostrou a melhor abordagem depois dos testes com a retirada de _outliers_ de outras colunas e em outras faixas de valores IQR, bem como sem nenhum tratamento._\n"
      ]
    },
    {
      "cell_type": "code",
      "metadata": {
        "colab": {
          "base_uri": "https://localhost:8080/"
        },
        "id": "z3pmJlPePvuf",
        "outputId": "36d1f583-dbb8-40f6-8b8e-0977a77331ae"
      },
      "source": [
        "#retira os outliers da coluna Campaign\n",
        "numerical_features=['campaign']\n",
        "for cols in numerical_features:\n",
        "    Q1 = data_treino[cols].quantile(0.25) #guarda o valor do quartil de 25%\n",
        "    Q3 = data_treino[cols].quantile(0.75) #guarda o valor do quartil de 75% dos dados\n",
        "    IQR = Q3 - Q1  #calcula o valor do IQR   \n",
        "\n",
        "    filter = (data_treino[cols] >= Q1 - 1.5 * IQR) & (data_treino[cols] <= Q3 + 1.5 *IQR) #cria o filtro que diz quais valores serão permitidos\n",
        "    data_treino_out = data_treino.loc[filter]\n",
        "\n",
        "data_treino_out.shape #mostra a quantidade final de colununas"
      ],
      "execution_count": 65,
      "outputs": [
        {
          "output_type": "execute_result",
          "data": {
            "text/plain": [
              "(6124, 16)"
            ]
          },
          "metadata": {
            "tags": []
          },
          "execution_count": 65
        }
      ]
    },
    {
      "cell_type": "code",
      "metadata": {
        "colab": {
          "base_uri": "https://localhost:8080/",
          "height": 334
        },
        "id": "HZudzHlHQ_ZK",
        "outputId": "a165455d-6eb8-4185-ffe1-7909c5475e3d"
      },
      "source": [
        "#Todos os resultados acima de 6 de campaing foram retirados\n",
        "f, ax = plt.subplots(figsize=(10, 5))\n",
        "sns.boxplot(x = data_treino_out['campaign'], width=.6, palette=\"BuGn\")\n",
        "ax.set(ylabel=\"\")\n",
        "sns.despine(trim=True, left=True)"
      ],
      "execution_count": 66,
      "outputs": [
        {
          "output_type": "display_data",
          "data": {
            "image/png": "[encoded data removed]",
            "text/plain": [
              "<Figure size 720x360 with 1 Axes>"
            ]
          },
          "metadata": {
            "tags": [],
            "needs_background": "light"
          }
        }
      ]
    },
    {
      "cell_type": "markdown",
      "metadata": {
        "id": "1LchNta4mN7R"
      },
      "source": [
        "##3.2 Mapeando colunas\n",
        " Como mencionado, é preciso que todas as colunas do tipo _objetc_, ou seja, aquelas que possuem texto sejam transformadas em colunas numéricas para que os modelos de machile learnin possam funcioar. \n",
        "\n",
        "Vamos transformar as colunas categóricas que possuem apenas as respostas SIM e NÃO em \n",
        "\"0\" para NÃO e \"1\" para SIM.\n",
        "\n",
        "\n"
      ]
    },
    {
      "cell_type": "code",
      "metadata": {
        "colab": {
          "base_uri": "https://localhost:8080/",
          "height": 226
        },
        "id": "yr6JbSFbMGpk",
        "outputId": "a0261711-ff5f-4897-e977-04f42cb0f5b9"
      },
      "source": [
        "#Mapeando em 0  e 1 as colunas bivariadas comum a todos\n",
        "data_treino_map = data_treino_out.copy()\n",
        "data_treino_map['default'] = data_treino_map['default'].map({'yes': 1, 'no':0})\n",
        "data_treino_map['housing'] = data_treino_map['housing'].map({'yes': 1, 'no':0})\n",
        "data_treino_map['loan'] = data_treino_map['loan'].map({'yes': 1, 'no':0})\n",
        "data_treino_map['term_deposit'] = data_treino_map['term_deposit'].map({'yes': 1, 'no':0})\n",
        "data_treino_map.head()"
      ],
      "execution_count": null,
      "outputs": [
        {
          "output_type": "execute_result",
          "data": {
            "text/html": [
              "<div>\n",
              "<style scoped>\n",
              "    .dataframe tbody tr th:only-of-type {\n",
              "        vertical-align: middle;\n",
              "    }\n",
              "\n",
              "    .dataframe tbody tr th {\n",
              "        vertical-align: top;\n",
              "    }\n",
              "\n",
              "    .dataframe thead th {\n",
              "        text-align: right;\n",
              "    }\n",
              "</style>\n",
              "<table border=\"1\" class=\"dataframe\">\n",
              "  <thead>\n",
              "    <tr style=\"text-align: right;\">\n",
              "      <th></th>\n",
              "      <th>age</th>\n",
              "      <th>job</th>\n",
              "      <th>marital</th>\n",
              "      <th>education</th>\n",
              "      <th>default</th>\n",
              "      <th>balance</th>\n",
              "      <th>housing</th>\n",
              "      <th>loan</th>\n",
              "      <th>contact</th>\n",
              "      <th>day</th>\n",
              "      <th>month</th>\n",
              "      <th>campaign</th>\n",
              "      <th>pdays</th>\n",
              "      <th>previous</th>\n",
              "      <th>poutcome</th>\n",
              "      <th>term_deposit</th>\n",
              "    </tr>\n",
              "  </thead>\n",
              "  <tbody>\n",
              "    <tr>\n",
              "      <th>0</th>\n",
              "      <td>46</td>\n",
              "      <td>management</td>\n",
              "      <td>divorced</td>\n",
              "      <td>tertiary</td>\n",
              "      <td>0</td>\n",
              "      <td>14481</td>\n",
              "      <td>1</td>\n",
              "      <td>0</td>\n",
              "      <td>unknown</td>\n",
              "      <td>30</td>\n",
              "      <td>may</td>\n",
              "      <td>1</td>\n",
              "      <td>-1</td>\n",
              "      <td>0</td>\n",
              "      <td>unknown</td>\n",
              "      <td>1</td>\n",
              "    </tr>\n",
              "    <tr>\n",
              "      <th>1</th>\n",
              "      <td>37</td>\n",
              "      <td>management</td>\n",
              "      <td>single</td>\n",
              "      <td>tertiary</td>\n",
              "      <td>0</td>\n",
              "      <td>457</td>\n",
              "      <td>1</td>\n",
              "      <td>0</td>\n",
              "      <td>cellular</td>\n",
              "      <td>1</td>\n",
              "      <td>apr</td>\n",
              "      <td>3</td>\n",
              "      <td>-1</td>\n",
              "      <td>0</td>\n",
              "      <td>unknown</td>\n",
              "      <td>0</td>\n",
              "    </tr>\n",
              "    <tr>\n",
              "      <th>3</th>\n",
              "      <td>45</td>\n",
              "      <td>unemployed</td>\n",
              "      <td>single</td>\n",
              "      <td>secondary</td>\n",
              "      <td>0</td>\n",
              "      <td>33</td>\n",
              "      <td>0</td>\n",
              "      <td>0</td>\n",
              "      <td>cellular</td>\n",
              "      <td>5</td>\n",
              "      <td>feb</td>\n",
              "      <td>1</td>\n",
              "      <td>-1</td>\n",
              "      <td>0</td>\n",
              "      <td>unknown</td>\n",
              "      <td>0</td>\n",
              "    </tr>\n",
              "    <tr>\n",
              "      <th>4</th>\n",
              "      <td>31</td>\n",
              "      <td>management</td>\n",
              "      <td>married</td>\n",
              "      <td>tertiary</td>\n",
              "      <td>0</td>\n",
              "      <td>131</td>\n",
              "      <td>0</td>\n",
              "      <td>0</td>\n",
              "      <td>cellular</td>\n",
              "      <td>18</td>\n",
              "      <td>feb</td>\n",
              "      <td>2</td>\n",
              "      <td>-1</td>\n",
              "      <td>0</td>\n",
              "      <td>unknown</td>\n",
              "      <td>1</td>\n",
              "    </tr>\n",
              "    <tr>\n",
              "      <th>5</th>\n",
              "      <td>35</td>\n",
              "      <td>management</td>\n",
              "      <td>married</td>\n",
              "      <td>tertiary</td>\n",
              "      <td>0</td>\n",
              "      <td>646</td>\n",
              "      <td>1</td>\n",
              "      <td>0</td>\n",
              "      <td>cellular</td>\n",
              "      <td>18</td>\n",
              "      <td>nov</td>\n",
              "      <td>2</td>\n",
              "      <td>-1</td>\n",
              "      <td>0</td>\n",
              "      <td>unknown</td>\n",
              "      <td>0</td>\n",
              "    </tr>\n",
              "  </tbody>\n",
              "</table>\n",
              "</div>"
            ],
            "text/plain": [
              "   age         job   marital  education  default  balance  housing  loan  \\\n",
              "0   46  management  divorced   tertiary        0    14481        1     0   \n",
              "1   37  management    single   tertiary        0      457        1     0   \n",
              "3   45  unemployed    single  secondary        0       33        0     0   \n",
              "4   31  management   married   tertiary        0      131        0     0   \n",
              "5   35  management   married   tertiary        0      646        1     0   \n",
              "\n",
              "    contact  day month  campaign  pdays  previous poutcome  term_deposit  \n",
              "0   unknown   30   may         1     -1         0  unknown             1  \n",
              "1  cellular    1   apr         3     -1         0  unknown             0  \n",
              "3  cellular    5   feb         1     -1         0  unknown             0  \n",
              "4  cellular   18   feb         2     -1         0  unknown             1  \n",
              "5  cellular   18   nov         2     -1         0  unknown             0  "
            ]
          },
          "metadata": {
            "tags": []
          },
          "execution_count": 15
        }
      ]
    },
    {
      "cell_type": "markdown",
      "metadata": {
        "id": "HML1ohl5yUAm"
      },
      "source": [
        "##3.3 Normalizando os valores\n",
        "\n",
        "Para um melhor desempenho dos algoritimos valos padronizar os valores, para que eles tenham a mesma faixa de valores. Isso é preciso para que alguns dados com valores muito altos não sejam interpretados como mais importantes que outros dados. Por isso vamos tentar deixar todas as colunas com faixas de valores similares entre -2 e 2.\n",
        "\n",
        "> Por exemplo, a coluna _Balance_ possui valores de -3000 a +80000, enquanto a coluna _campaign_ possui valores entre 1 e 300. Para os algoritmos os valores de _balance_ podem ser interpretados com maior importância (peso) que os valores de _campaing_, o que não é nescessarimanete verdade.\n",
        "\n",
        "Utilizaremos a função _StandardScaler_. Onde para cada entrada de cada coluna é subtraída a média da coluna e divido pelo desvio padrão daquela coluna. Isso faz com que não percamos informação durante a transformação, mantendo a essência do dado."
      ]
    },
    {
      "cell_type": "code",
      "metadata": {
        "colab": {
          "base_uri": "https://localhost:8080/",
          "height": 226
        },
        "id": "wgi15EebyUOo",
        "outputId": "489030a5-8007-4950-9064-8745bc379611"
      },
      "source": [
        "sc = StandardScaler()\n",
        "data_treino_out_norm = data_treino_map.copy().reset_index(drop=True)#Precisa Reiniciar o index devido ao tratamento de outliers que retirou colunas\n",
        "\n",
        "aux0 = sc.fit_transform(data_treino_out_norm[['age','balance', 'pdays', 'previous', 'day']])#faz o ajuste, calculo da média e do desvio padrão. (- a mpedia) / desvio padrão\n",
        "aux1 = pd.DataFrame(aux0, columns = ['idade', 'Saldo_conta', 'dias_Contato', 'Previo', 'dia'])#transforma num data frame o numpy array e adicionado ao data frame\n",
        "data_treino_out_norm = pd.concat([data_treino_out_norm, aux1], axis = 1)#concatena com o o conjunto de dados\n",
        "data_treino_out_norm.drop(['age','balance', 'pdays', 'previous', 'day'], axis = 1, inplace = True) #dropa as colunas antigas do conjunto de dados\n",
        "data_treino_out_norm.head(5)"
      ],
      "execution_count": null,
      "outputs": [
        {
          "output_type": "execute_result",
          "data": {
            "text/html": [
              "<div>\n",
              "<style scoped>\n",
              "    .dataframe tbody tr th:only-of-type {\n",
              "        vertical-align: middle;\n",
              "    }\n",
              "\n",
              "    .dataframe tbody tr th {\n",
              "        vertical-align: top;\n",
              "    }\n",
              "\n",
              "    .dataframe thead th {\n",
              "        text-align: right;\n",
              "    }\n",
              "</style>\n",
              "<table border=\"1\" class=\"dataframe\">\n",
              "  <thead>\n",
              "    <tr style=\"text-align: right;\">\n",
              "      <th></th>\n",
              "      <th>job</th>\n",
              "      <th>marital</th>\n",
              "      <th>education</th>\n",
              "      <th>default</th>\n",
              "      <th>housing</th>\n",
              "      <th>loan</th>\n",
              "      <th>contact</th>\n",
              "      <th>month</th>\n",
              "      <th>campaign</th>\n",
              "      <th>poutcome</th>\n",
              "      <th>term_deposit</th>\n",
              "      <th>idade</th>\n",
              "      <th>Saldo_conta</th>\n",
              "      <th>dias_Contato</th>\n",
              "      <th>Previo</th>\n",
              "      <th>dia</th>\n",
              "    </tr>\n",
              "  </thead>\n",
              "  <tbody>\n",
              "    <tr>\n",
              "      <th>0</th>\n",
              "      <td>management</td>\n",
              "      <td>divorced</td>\n",
              "      <td>tertiary</td>\n",
              "      <td>0</td>\n",
              "      <td>1</td>\n",
              "      <td>0</td>\n",
              "      <td>unknown</td>\n",
              "      <td>may</td>\n",
              "      <td>1</td>\n",
              "      <td>unknown</td>\n",
              "      <td>1</td>\n",
              "      <td>0.444481</td>\n",
              "      <td>4.009700</td>\n",
              "      <td>-0.432457</td>\n",
              "      <td>-0.307291</td>\n",
              "      <td>1.755331</td>\n",
              "    </tr>\n",
              "    <tr>\n",
              "      <th>1</th>\n",
              "      <td>management</td>\n",
              "      <td>single</td>\n",
              "      <td>tertiary</td>\n",
              "      <td>0</td>\n",
              "      <td>1</td>\n",
              "      <td>0</td>\n",
              "      <td>cellular</td>\n",
              "      <td>apr</td>\n",
              "      <td>3</td>\n",
              "      <td>unknown</td>\n",
              "      <td>0</td>\n",
              "      <td>-0.345650</td>\n",
              "      <td>-0.340459</td>\n",
              "      <td>-0.432457</td>\n",
              "      <td>-0.307291</td>\n",
              "      <td>-1.736652</td>\n",
              "    </tr>\n",
              "    <tr>\n",
              "      <th>2</th>\n",
              "      <td>unemployed</td>\n",
              "      <td>single</td>\n",
              "      <td>secondary</td>\n",
              "      <td>0</td>\n",
              "      <td>0</td>\n",
              "      <td>0</td>\n",
              "      <td>cellular</td>\n",
              "      <td>feb</td>\n",
              "      <td>1</td>\n",
              "      <td>unknown</td>\n",
              "      <td>0</td>\n",
              "      <td>0.356688</td>\n",
              "      <td>-0.471981</td>\n",
              "      <td>-0.432457</td>\n",
              "      <td>-0.307291</td>\n",
              "      <td>-1.254999</td>\n",
              "    </tr>\n",
              "    <tr>\n",
              "      <th>3</th>\n",
              "      <td>management</td>\n",
              "      <td>married</td>\n",
              "      <td>tertiary</td>\n",
              "      <td>0</td>\n",
              "      <td>0</td>\n",
              "      <td>0</td>\n",
              "      <td>cellular</td>\n",
              "      <td>feb</td>\n",
              "      <td>2</td>\n",
              "      <td>unknown</td>\n",
              "      <td>1</td>\n",
              "      <td>-0.872403</td>\n",
              "      <td>-0.441582</td>\n",
              "      <td>-0.432457</td>\n",
              "      <td>-0.307291</td>\n",
              "      <td>0.310373</td>\n",
              "    </tr>\n",
              "    <tr>\n",
              "      <th>4</th>\n",
              "      <td>management</td>\n",
              "      <td>married</td>\n",
              "      <td>tertiary</td>\n",
              "      <td>0</td>\n",
              "      <td>1</td>\n",
              "      <td>0</td>\n",
              "      <td>cellular</td>\n",
              "      <td>nov</td>\n",
              "      <td>2</td>\n",
              "      <td>unknown</td>\n",
              "      <td>0</td>\n",
              "      <td>-0.521234</td>\n",
              "      <td>-0.281832</td>\n",
              "      <td>-0.432457</td>\n",
              "      <td>-0.307291</td>\n",
              "      <td>0.310373</td>\n",
              "    </tr>\n",
              "  </tbody>\n",
              "</table>\n",
              "</div>"
            ],
            "text/plain": [
              "          job   marital  education  default  housing  loan   contact month  \\\n",
              "0  management  divorced   tertiary        0        1     0   unknown   may   \n",
              "1  management    single   tertiary        0        1     0  cellular   apr   \n",
              "2  unemployed    single  secondary        0        0     0  cellular   feb   \n",
              "3  management   married   tertiary        0        0     0  cellular   feb   \n",
              "4  management   married   tertiary        0        1     0  cellular   nov   \n",
              "\n",
              "   campaign poutcome  term_deposit     idade  Saldo_conta  dias_Contato  \\\n",
              "0         1  unknown             1  0.444481     4.009700     -0.432457   \n",
              "1         3  unknown             0 -0.345650    -0.340459     -0.432457   \n",
              "2         1  unknown             0  0.356688    -0.471981     -0.432457   \n",
              "3         2  unknown             1 -0.872403    -0.441582     -0.432457   \n",
              "4         2  unknown             0 -0.521234    -0.281832     -0.432457   \n",
              "\n",
              "     Previo       dia  \n",
              "0 -0.307291  1.755331  \n",
              "1 -0.307291 -1.736652  \n",
              "2 -0.307291 -1.254999  \n",
              "3 -0.307291  0.310373  \n",
              "4 -0.307291  0.310373  "
            ]
          },
          "metadata": {
            "tags": []
          },
          "execution_count": 16
        }
      ]
    },
    {
      "cell_type": "markdown",
      "metadata": {
        "id": "PFJlFdSklO1n"
      },
      "source": [
        "##3.4 Testando abordagens distintas\n",
        "A maioria dos algoritmos de Machine Learning não suportam entradas de valores que não sejam numéricos, por isso precisamos transformar todos os dados deste tipo em números. Para isso tentaremos fazer algumas transformações diferentes e ver qual tem o melhor resultado F1-Score. Então tentaremos:\n",
        "1. Transformar todas as categorias em números;\n",
        "2. Transformar cada categoria em uma nova coluna (Dummy);\n",
        "3. Fazer uma combinação destas duas.\n",
        "\n"
      ]
    },
    {
      "cell_type": "markdown",
      "metadata": {
        "id": "glw08Q2fb6yh"
      },
      "source": [
        "###3.4.1 Transformando variáveis Categóricas em numéricas\n",
        "Vamos simplesmente identificar as categorias presentes em cada coluna e atribuir um número ordinal a ela. \n",
        "\n",
        "Para a coluna _marirtal_, por exemplo, transformaremos casado em 0, solteiro em 1 e divorciado em 2.\n",
        "\n",
        "Observe que ao final só temos números nas colunas.\n"
      ]
    },
    {
      "cell_type": "code",
      "metadata": {
        "colab": {
          "base_uri": "https://localhost:8080/",
          "height": 226
        },
        "id": "4PRs6-xYJ--E",
        "outputId": "d5a8acfb-63e5-4497-c5da-45abe23824c2"
      },
      "source": [
        "data_treino_out_norm_num = data_treino_out_norm.copy()\n",
        "\n",
        "data_treino_out_norm_num['job'] = data_treino_out_norm_num['job'].map({'management': 0, 'blue-collar':1, \n",
        "                                                                     'technician': 2, 'admin.': 3, 'services': 4, \n",
        "                                                                     'retired': 5, 'self-employed': 6, 'unemployed': 7, \n",
        "                                                                     'entrepreneur': 8, 'student': 9, 'housemaid': 10,\n",
        "                                                                     'unknown': 11})\n",
        "data_treino_out_norm_num['marital'] = data_treino_out_norm_num['marital'].map({'married': 0, 'single': 1, 'divorced': 2})\n",
        "data_treino_out_norm_num['education'] = data_treino_out_norm_num['education'].map({'primary': 0, 'secondary': 1, 'tertiary': 2, 'unknown': 3})\n",
        "data_treino_out_norm_num['contact'] = data_treino_out_norm_num['contact'].map({'cellular': 1, 'unknown':0, 'telephone': 2})\n",
        "data_treino_out_norm_num['month'] = data_treino_out_norm_num['month'].map({'jan': 0, 'feb': 1,'mar': 2, 'apr': 3,\n",
        "                                                                         'may': 4, 'jun': 5,'jul': 6, 'aug': 7,\n",
        "                                                                         'sep': 8, 'oct': 9,'nov': 10, 'dec': 11,})\n",
        "data_treino_out_norm_num['poutcome'] = data_treino_out_norm_num['poutcome'].map({'unknown': 0, 'failure': 1, 'success': 2, 'other': 3})\n",
        "\n",
        "data_treino_out_norm_num.head()"
      ],
      "execution_count": null,
      "outputs": [
        {
          "output_type": "execute_result",
          "data": {
            "text/html": [
              "<div>\n",
              "<style scoped>\n",
              "    .dataframe tbody tr th:only-of-type {\n",
              "        vertical-align: middle;\n",
              "    }\n",
              "\n",
              "    .dataframe tbody tr th {\n",
              "        vertical-align: top;\n",
              "    }\n",
              "\n",
              "    .dataframe thead th {\n",
              "        text-align: right;\n",
              "    }\n",
              "</style>\n",
              "<table border=\"1\" class=\"dataframe\">\n",
              "  <thead>\n",
              "    <tr style=\"text-align: right;\">\n",
              "      <th></th>\n",
              "      <th>job</th>\n",
              "      <th>marital</th>\n",
              "      <th>education</th>\n",
              "      <th>default</th>\n",
              "      <th>housing</th>\n",
              "      <th>loan</th>\n",
              "      <th>contact</th>\n",
              "      <th>month</th>\n",
              "      <th>campaign</th>\n",
              "      <th>poutcome</th>\n",
              "      <th>term_deposit</th>\n",
              "      <th>idade</th>\n",
              "      <th>Saldo_conta</th>\n",
              "      <th>dias_Contato</th>\n",
              "      <th>Previo</th>\n",
              "      <th>dia</th>\n",
              "    </tr>\n",
              "  </thead>\n",
              "  <tbody>\n",
              "    <tr>\n",
              "      <th>0</th>\n",
              "      <td>0</td>\n",
              "      <td>2</td>\n",
              "      <td>2</td>\n",
              "      <td>0</td>\n",
              "      <td>1</td>\n",
              "      <td>0</td>\n",
              "      <td>0</td>\n",
              "      <td>4</td>\n",
              "      <td>1</td>\n",
              "      <td>0</td>\n",
              "      <td>1</td>\n",
              "      <td>0.444481</td>\n",
              "      <td>4.009700</td>\n",
              "      <td>-0.432457</td>\n",
              "      <td>-0.307291</td>\n",
              "      <td>1.755331</td>\n",
              "    </tr>\n",
              "    <tr>\n",
              "      <th>1</th>\n",
              "      <td>0</td>\n",
              "      <td>1</td>\n",
              "      <td>2</td>\n",
              "      <td>0</td>\n",
              "      <td>1</td>\n",
              "      <td>0</td>\n",
              "      <td>1</td>\n",
              "      <td>3</td>\n",
              "      <td>3</td>\n",
              "      <td>0</td>\n",
              "      <td>0</td>\n",
              "      <td>-0.345650</td>\n",
              "      <td>-0.340459</td>\n",
              "      <td>-0.432457</td>\n",
              "      <td>-0.307291</td>\n",
              "      <td>-1.736652</td>\n",
              "    </tr>\n",
              "    <tr>\n",
              "      <th>2</th>\n",
              "      <td>7</td>\n",
              "      <td>1</td>\n",
              "      <td>1</td>\n",
              "      <td>0</td>\n",
              "      <td>0</td>\n",
              "      <td>0</td>\n",
              "      <td>1</td>\n",
              "      <td>1</td>\n",
              "      <td>1</td>\n",
              "      <td>0</td>\n",
              "      <td>0</td>\n",
              "      <td>0.356688</td>\n",
              "      <td>-0.471981</td>\n",
              "      <td>-0.432457</td>\n",
              "      <td>-0.307291</td>\n",
              "      <td>-1.254999</td>\n",
              "    </tr>\n",
              "    <tr>\n",
              "      <th>3</th>\n",
              "      <td>0</td>\n",
              "      <td>0</td>\n",
              "      <td>2</td>\n",
              "      <td>0</td>\n",
              "      <td>0</td>\n",
              "      <td>0</td>\n",
              "      <td>1</td>\n",
              "      <td>1</td>\n",
              "      <td>2</td>\n",
              "      <td>0</td>\n",
              "      <td>1</td>\n",
              "      <td>-0.872403</td>\n",
              "      <td>-0.441582</td>\n",
              "      <td>-0.432457</td>\n",
              "      <td>-0.307291</td>\n",
              "      <td>0.310373</td>\n",
              "    </tr>\n",
              "    <tr>\n",
              "      <th>4</th>\n",
              "      <td>0</td>\n",
              "      <td>0</td>\n",
              "      <td>2</td>\n",
              "      <td>0</td>\n",
              "      <td>1</td>\n",
              "      <td>0</td>\n",
              "      <td>1</td>\n",
              "      <td>10</td>\n",
              "      <td>2</td>\n",
              "      <td>0</td>\n",
              "      <td>0</td>\n",
              "      <td>-0.521234</td>\n",
              "      <td>-0.281832</td>\n",
              "      <td>-0.432457</td>\n",
              "      <td>-0.307291</td>\n",
              "      <td>0.310373</td>\n",
              "    </tr>\n",
              "  </tbody>\n",
              "</table>\n",
              "</div>"
            ],
            "text/plain": [
              "   job  marital  education  default  housing  loan  contact  month  campaign  \\\n",
              "0    0        2          2        0        1     0        0      4         1   \n",
              "1    0        1          2        0        1     0        1      3         3   \n",
              "2    7        1          1        0        0     0        1      1         1   \n",
              "3    0        0          2        0        0     0        1      1         2   \n",
              "4    0        0          2        0        1     0        1     10         2   \n",
              "\n",
              "   poutcome  term_deposit     idade  Saldo_conta  dias_Contato    Previo  \\\n",
              "0         0             1  0.444481     4.009700     -0.432457 -0.307291   \n",
              "1         0             0 -0.345650    -0.340459     -0.432457 -0.307291   \n",
              "2         0             0  0.356688    -0.471981     -0.432457 -0.307291   \n",
              "3         0             1 -0.872403    -0.441582     -0.432457 -0.307291   \n",
              "4         0             0 -0.521234    -0.281832     -0.432457 -0.307291   \n",
              "\n",
              "        dia  \n",
              "0  1.755331  \n",
              "1 -1.736652  \n",
              "2 -1.254999  \n",
              "3  0.310373  \n",
              "4  0.310373  "
            ]
          },
          "metadata": {
            "tags": []
          },
          "execution_count": 17
        }
      ]
    },
    {
      "cell_type": "markdown",
      "metadata": {
        "id": "yMva-FdlKtzL"
      },
      "source": [
        "###3.4.2 Dummy das colunas\n",
        "Ao invés de atribuir um valor arbitrário, vamos simplesmente criar uma nova coluna para aquela categoria atribuindo o valor 1 para sim e 0 para não.\n",
        "\n",
        "Para a mesma coluna _marital_, criaremos três novas colunas: _marital_married, marital_silgle_ e _marital_divorced_. Sendo atribuídos o valor 1 a apenas uma destas colunas, indicando se a pessoa é solteira, casada ou divorciada em colunas diferentes.\n",
        "\n",
        "Isso nem sempre é uma boa prática, pois acaba gerando muitas colunas novas, deixando um conjunto de dados muito maior."
      ]
    },
    {
      "cell_type": "code",
      "metadata": {
        "colab": {
          "base_uri": "https://localhost:8080/",
          "height": 244
        },
        "id": "177MenwowCeI",
        "outputId": "81b16917-7505-4b92-c5de-19fb8e7eebbb"
      },
      "source": [
        "data_treino_out_norm_dumi = data_treino_out_norm.copy()\n",
        "data_treino_out_norm_dumi = pd.get_dummies(data_treino_out_norm_dumi, columns = ['job', 'marital', 'education', 'contact', 'month', 'poutcome'])\n",
        "data_treino_out_norm_dumi.head()"
      ],
      "execution_count": null,
      "outputs": [
        {
          "output_type": "execute_result",
          "data": {
            "text/html": [
              "<div>\n",
              "<style scoped>\n",
              "    .dataframe tbody tr th:only-of-type {\n",
              "        vertical-align: middle;\n",
              "    }\n",
              "\n",
              "    .dataframe tbody tr th {\n",
              "        vertical-align: top;\n",
              "    }\n",
              "\n",
              "    .dataframe thead th {\n",
              "        text-align: right;\n",
              "    }\n",
              "</style>\n",
              "<table border=\"1\" class=\"dataframe\">\n",
              "  <thead>\n",
              "    <tr style=\"text-align: right;\">\n",
              "      <th></th>\n",
              "      <th>default</th>\n",
              "      <th>housing</th>\n",
              "      <th>loan</th>\n",
              "      <th>campaign</th>\n",
              "      <th>term_deposit</th>\n",
              "      <th>idade</th>\n",
              "      <th>Saldo_conta</th>\n",
              "      <th>dias_Contato</th>\n",
              "      <th>Previo</th>\n",
              "      <th>dia</th>\n",
              "      <th>...</th>\n",
              "      <th>month_jun</th>\n",
              "      <th>month_mar</th>\n",
              "      <th>month_may</th>\n",
              "      <th>month_nov</th>\n",
              "      <th>month_oct</th>\n",
              "      <th>month_sep</th>\n",
              "      <th>poutcome_failure</th>\n",
              "      <th>poutcome_other</th>\n",
              "      <th>poutcome_success</th>\n",
              "      <th>poutcome_unknown</th>\n",
              "    </tr>\n",
              "  </thead>\n",
              "  <tbody>\n",
              "    <tr>\n",
              "      <th>0</th>\n",
              "      <td>0</td>\n",
              "      <td>1</td>\n",
              "      <td>0</td>\n",
              "      <td>1</td>\n",
              "      <td>1</td>\n",
              "      <td>0.444481</td>\n",
              "      <td>4.009700</td>\n",
              "      <td>-0.432457</td>\n",
              "      <td>-0.307291</td>\n",
              "      <td>1.755331</td>\n",
              "      <td>...</td>\n",
              "      <td>0</td>\n",
              "      <td>0</td>\n",
              "      <td>1</td>\n",
              "      <td>0</td>\n",
              "      <td>0</td>\n",
              "      <td>0</td>\n",
              "      <td>0</td>\n",
              "      <td>0</td>\n",
              "      <td>0</td>\n",
              "      <td>1</td>\n",
              "    </tr>\n",
              "    <tr>\n",
              "      <th>1</th>\n",
              "      <td>0</td>\n",
              "      <td>1</td>\n",
              "      <td>0</td>\n",
              "      <td>3</td>\n",
              "      <td>0</td>\n",
              "      <td>-0.345650</td>\n",
              "      <td>-0.340459</td>\n",
              "      <td>-0.432457</td>\n",
              "      <td>-0.307291</td>\n",
              "      <td>-1.736652</td>\n",
              "      <td>...</td>\n",
              "      <td>0</td>\n",
              "      <td>0</td>\n",
              "      <td>0</td>\n",
              "      <td>0</td>\n",
              "      <td>0</td>\n",
              "      <td>0</td>\n",
              "      <td>0</td>\n",
              "      <td>0</td>\n",
              "      <td>0</td>\n",
              "      <td>1</td>\n",
              "    </tr>\n",
              "    <tr>\n",
              "      <th>2</th>\n",
              "      <td>0</td>\n",
              "      <td>0</td>\n",
              "      <td>0</td>\n",
              "      <td>1</td>\n",
              "      <td>0</td>\n",
              "      <td>0.356688</td>\n",
              "      <td>-0.471981</td>\n",
              "      <td>-0.432457</td>\n",
              "      <td>-0.307291</td>\n",
              "      <td>-1.254999</td>\n",
              "      <td>...</td>\n",
              "      <td>0</td>\n",
              "      <td>0</td>\n",
              "      <td>0</td>\n",
              "      <td>0</td>\n",
              "      <td>0</td>\n",
              "      <td>0</td>\n",
              "      <td>0</td>\n",
              "      <td>0</td>\n",
              "      <td>0</td>\n",
              "      <td>1</td>\n",
              "    </tr>\n",
              "    <tr>\n",
              "      <th>3</th>\n",
              "      <td>0</td>\n",
              "      <td>0</td>\n",
              "      <td>0</td>\n",
              "      <td>2</td>\n",
              "      <td>1</td>\n",
              "      <td>-0.872403</td>\n",
              "      <td>-0.441582</td>\n",
              "      <td>-0.432457</td>\n",
              "      <td>-0.307291</td>\n",
              "      <td>0.310373</td>\n",
              "      <td>...</td>\n",
              "      <td>0</td>\n",
              "      <td>0</td>\n",
              "      <td>0</td>\n",
              "      <td>0</td>\n",
              "      <td>0</td>\n",
              "      <td>0</td>\n",
              "      <td>0</td>\n",
              "      <td>0</td>\n",
              "      <td>0</td>\n",
              "      <td>1</td>\n",
              "    </tr>\n",
              "    <tr>\n",
              "      <th>4</th>\n",
              "      <td>0</td>\n",
              "      <td>1</td>\n",
              "      <td>0</td>\n",
              "      <td>2</td>\n",
              "      <td>0</td>\n",
              "      <td>-0.521234</td>\n",
              "      <td>-0.281832</td>\n",
              "      <td>-0.432457</td>\n",
              "      <td>-0.307291</td>\n",
              "      <td>0.310373</td>\n",
              "      <td>...</td>\n",
              "      <td>0</td>\n",
              "      <td>0</td>\n",
              "      <td>0</td>\n",
              "      <td>1</td>\n",
              "      <td>0</td>\n",
              "      <td>0</td>\n",
              "      <td>0</td>\n",
              "      <td>0</td>\n",
              "      <td>0</td>\n",
              "      <td>1</td>\n",
              "    </tr>\n",
              "  </tbody>\n",
              "</table>\n",
              "<p>5 rows × 48 columns</p>\n",
              "</div>"
            ],
            "text/plain": [
              "   default  housing  loan  campaign  term_deposit     idade  Saldo_conta  \\\n",
              "0        0        1     0         1             1  0.444481     4.009700   \n",
              "1        0        1     0         3             0 -0.345650    -0.340459   \n",
              "2        0        0     0         1             0  0.356688    -0.471981   \n",
              "3        0        0     0         2             1 -0.872403    -0.441582   \n",
              "4        0        1     0         2             0 -0.521234    -0.281832   \n",
              "\n",
              "   dias_Contato    Previo       dia  ...  month_jun  month_mar  month_may  \\\n",
              "0     -0.432457 -0.307291  1.755331  ...          0          0          1   \n",
              "1     -0.432457 -0.307291 -1.736652  ...          0          0          0   \n",
              "2     -0.432457 -0.307291 -1.254999  ...          0          0          0   \n",
              "3     -0.432457 -0.307291  0.310373  ...          0          0          0   \n",
              "4     -0.432457 -0.307291  0.310373  ...          0          0          0   \n",
              "\n",
              "   month_nov  month_oct  month_sep  poutcome_failure  poutcome_other  \\\n",
              "0          0          0          0                 0               0   \n",
              "1          0          0          0                 0               0   \n",
              "2          0          0          0                 0               0   \n",
              "3          0          0          0                 0               0   \n",
              "4          1          0          0                 0               0   \n",
              "\n",
              "   poutcome_success  poutcome_unknown  \n",
              "0                 0                 1  \n",
              "1                 0                 1  \n",
              "2                 0                 1  \n",
              "3                 0                 1  \n",
              "4                 0                 1  \n",
              "\n",
              "[5 rows x 48 columns]"
            ]
          },
          "metadata": {
            "tags": []
          },
          "execution_count": 18
        }
      ]
    },
    {
      "cell_type": "markdown",
      "metadata": {
        "id": "BsWANFWwMDIs"
      },
      "source": [
        "Agora temos um conjunto totalmente numérico, mas em contrapartida temos 48 colunas, 32 colunas a mais que as 16 inicial."
      ]
    },
    {
      "cell_type": "code",
      "metadata": {
        "colab": {
          "base_uri": "https://localhost:8080/"
        },
        "id": "9iCqUBGuk_yP",
        "outputId": "de374f01-39bf-41b7-96e5-ced8dcc87d96"
      },
      "source": [
        "data_treino_out_norm_dumi.shape"
      ],
      "execution_count": null,
      "outputs": [
        {
          "output_type": "execute_result",
          "data": {
            "text/plain": [
              "(6124, 48)"
            ]
          },
          "metadata": {
            "tags": []
          },
          "execution_count": 19
        }
      ]
    },
    {
      "cell_type": "markdown",
      "metadata": {
        "id": "eMoLUQcaVqQL"
      },
      "source": [
        "###3.4.3 Abordagem mista\n",
        "Por fim, faremos uma abordagem mista das técnicas, transformando algumas colunas em numéricas e criaremos algumas novas colunas. \n",
        "\n",
        "Além disso, ao invés de criar números arbitrários para as categorias, irei atribuir \"pesos\" de acordo com o número de ocorrências no conjunto de dados total. Isto é, farei a contagem para cada observação e atribuirei esse número aquela categoria.\n",
        "\n",
        "Para a coluna _marital_, ao invés de atribuir 1 ,2 ou 3 de acordo com a categoria de casado, divorciado ou solteiro, irei contar quantas vezes o estado casado aparece, por exemplo, e atribuirei esse número de observações a ele."
      ]
    },
    {
      "cell_type": "code",
      "metadata": {
        "colab": {
          "base_uri": "https://localhost:8080/",
          "height": 226
        },
        "id": "oIEnb7aTVpaL",
        "outputId": "711e1ed0-3247-4317-917d-e47d23ea1b2a"
      },
      "source": [
        "data_treino_out_norm_mista = data_treino_out_norm.copy()\n",
        "#Numerificando a coluna month de forma convencional\n",
        "data_treino_out_norm_mista['month'] = data_treino_out_norm_mista['month'].map({'jan': 0, 'feb': 1,'mar': 2, 'apr': 3,\n",
        "                                                                         'may': 4, 'jun': 5,'jul': 6, 'aug': 7,\n",
        "                                                                         'sep': 8, 'oct': 9,'nov': 10, 'dec': 11,})\n",
        "#Atribuindo \"Pesos\" a variáeis categóricas antes de numerificar\n",
        "#faz a contagens de observações em cada coluna\n",
        "data_treino_job = data_treino_out_norm_mista['job'].value_counts().to_dict()\n",
        "data_treino_edu = data_treino_out_norm_mista['education'].value_counts().to_dict()\n",
        "data_treino_mar = data_treino_out_norm_mista['marital'].value_counts().to_dict()\n",
        "#Atribui o número de observações a respectiva categoria\n",
        "data_treino_out_norm_mista['job']=data_treino_out_norm_mista['job'].map(data_treino_job)\n",
        "data_treino_out_norm_mista['education']=data_treino_out_norm_mista['education'].map(data_treino_edu)\n",
        "data_treino_out_norm_mista['marital']=data_treino_out_norm_mista['marital'].map(data_treino_mar)\n",
        "\n",
        "#As colunas Contact e poutcome serão dumificadas\n",
        "data_treino_out_norm_mista = pd.get_dummies(data_treino_out_norm_mista, columns= ['contact', 'poutcome'])\n",
        "data_treino_out_norm_mista.head()"
      ],
      "execution_count": null,
      "outputs": [
        {
          "output_type": "execute_result",
          "data": {
            "text/html": [
              "<div>\n",
              "<style scoped>\n",
              "    .dataframe tbody tr th:only-of-type {\n",
              "        vertical-align: middle;\n",
              "    }\n",
              "\n",
              "    .dataframe tbody tr th {\n",
              "        vertical-align: top;\n",
              "    }\n",
              "\n",
              "    .dataframe thead th {\n",
              "        text-align: right;\n",
              "    }\n",
              "</style>\n",
              "<table border=\"1\" class=\"dataframe\">\n",
              "  <thead>\n",
              "    <tr style=\"text-align: right;\">\n",
              "      <th></th>\n",
              "      <th>job</th>\n",
              "      <th>marital</th>\n",
              "      <th>education</th>\n",
              "      <th>default</th>\n",
              "      <th>housing</th>\n",
              "      <th>loan</th>\n",
              "      <th>month</th>\n",
              "      <th>campaign</th>\n",
              "      <th>term_deposit</th>\n",
              "      <th>idade</th>\n",
              "      <th>...</th>\n",
              "      <th>dias_Contato</th>\n",
              "      <th>Previo</th>\n",
              "      <th>dia</th>\n",
              "      <th>contact_cellular</th>\n",
              "      <th>contact_telephone</th>\n",
              "      <th>contact_unknown</th>\n",
              "      <th>poutcome_failure</th>\n",
              "      <th>poutcome_other</th>\n",
              "      <th>poutcome_success</th>\n",
              "      <th>poutcome_unknown</th>\n",
              "    </tr>\n",
              "  </thead>\n",
              "  <tbody>\n",
              "    <tr>\n",
              "      <th>0</th>\n",
              "      <td>1377</td>\n",
              "      <td>737</td>\n",
              "      <td>2000</td>\n",
              "      <td>0</td>\n",
              "      <td>1</td>\n",
              "      <td>0</td>\n",
              "      <td>4</td>\n",
              "      <td>1</td>\n",
              "      <td>1</td>\n",
              "      <td>0.444481</td>\n",
              "      <td>...</td>\n",
              "      <td>-0.432457</td>\n",
              "      <td>-0.307291</td>\n",
              "      <td>1.755331</td>\n",
              "      <td>0</td>\n",
              "      <td>0</td>\n",
              "      <td>1</td>\n",
              "      <td>0</td>\n",
              "      <td>0</td>\n",
              "      <td>0</td>\n",
              "      <td>1</td>\n",
              "    </tr>\n",
              "    <tr>\n",
              "      <th>1</th>\n",
              "      <td>1377</td>\n",
              "      <td>1923</td>\n",
              "      <td>2000</td>\n",
              "      <td>0</td>\n",
              "      <td>1</td>\n",
              "      <td>0</td>\n",
              "      <td>3</td>\n",
              "      <td>3</td>\n",
              "      <td>0</td>\n",
              "      <td>-0.345650</td>\n",
              "      <td>...</td>\n",
              "      <td>-0.432457</td>\n",
              "      <td>-0.307291</td>\n",
              "      <td>-1.736652</td>\n",
              "      <td>1</td>\n",
              "      <td>0</td>\n",
              "      <td>0</td>\n",
              "      <td>0</td>\n",
              "      <td>0</td>\n",
              "      <td>0</td>\n",
              "      <td>1</td>\n",
              "    </tr>\n",
              "    <tr>\n",
              "      <th>2</th>\n",
              "      <td>210</td>\n",
              "      <td>1923</td>\n",
              "      <td>3021</td>\n",
              "      <td>0</td>\n",
              "      <td>0</td>\n",
              "      <td>0</td>\n",
              "      <td>1</td>\n",
              "      <td>1</td>\n",
              "      <td>0</td>\n",
              "      <td>0.356688</td>\n",
              "      <td>...</td>\n",
              "      <td>-0.432457</td>\n",
              "      <td>-0.307291</td>\n",
              "      <td>-1.254999</td>\n",
              "      <td>1</td>\n",
              "      <td>0</td>\n",
              "      <td>0</td>\n",
              "      <td>0</td>\n",
              "      <td>0</td>\n",
              "      <td>0</td>\n",
              "      <td>1</td>\n",
              "    </tr>\n",
              "    <tr>\n",
              "      <th>3</th>\n",
              "      <td>1377</td>\n",
              "      <td>3464</td>\n",
              "      <td>2000</td>\n",
              "      <td>0</td>\n",
              "      <td>0</td>\n",
              "      <td>0</td>\n",
              "      <td>1</td>\n",
              "      <td>2</td>\n",
              "      <td>1</td>\n",
              "      <td>-0.872403</td>\n",
              "      <td>...</td>\n",
              "      <td>-0.432457</td>\n",
              "      <td>-0.307291</td>\n",
              "      <td>0.310373</td>\n",
              "      <td>1</td>\n",
              "      <td>0</td>\n",
              "      <td>0</td>\n",
              "      <td>0</td>\n",
              "      <td>0</td>\n",
              "      <td>0</td>\n",
              "      <td>1</td>\n",
              "    </tr>\n",
              "    <tr>\n",
              "      <th>4</th>\n",
              "      <td>1377</td>\n",
              "      <td>3464</td>\n",
              "      <td>2000</td>\n",
              "      <td>0</td>\n",
              "      <td>1</td>\n",
              "      <td>0</td>\n",
              "      <td>10</td>\n",
              "      <td>2</td>\n",
              "      <td>0</td>\n",
              "      <td>-0.521234</td>\n",
              "      <td>...</td>\n",
              "      <td>-0.432457</td>\n",
              "      <td>-0.307291</td>\n",
              "      <td>0.310373</td>\n",
              "      <td>1</td>\n",
              "      <td>0</td>\n",
              "      <td>0</td>\n",
              "      <td>0</td>\n",
              "      <td>0</td>\n",
              "      <td>0</td>\n",
              "      <td>1</td>\n",
              "    </tr>\n",
              "  </tbody>\n",
              "</table>\n",
              "<p>5 rows × 21 columns</p>\n",
              "</div>"
            ],
            "text/plain": [
              "    job  marital  education  default  housing  loan  month  campaign  \\\n",
              "0  1377      737       2000        0        1     0      4         1   \n",
              "1  1377     1923       2000        0        1     0      3         3   \n",
              "2   210     1923       3021        0        0     0      1         1   \n",
              "3  1377     3464       2000        0        0     0      1         2   \n",
              "4  1377     3464       2000        0        1     0     10         2   \n",
              "\n",
              "   term_deposit     idade  ...  dias_Contato    Previo       dia  \\\n",
              "0             1  0.444481  ...     -0.432457 -0.307291  1.755331   \n",
              "1             0 -0.345650  ...     -0.432457 -0.307291 -1.736652   \n",
              "2             0  0.356688  ...     -0.432457 -0.307291 -1.254999   \n",
              "3             1 -0.872403  ...     -0.432457 -0.307291  0.310373   \n",
              "4             0 -0.521234  ...     -0.432457 -0.307291  0.310373   \n",
              "\n",
              "   contact_cellular  contact_telephone  contact_unknown  poutcome_failure  \\\n",
              "0                 0                  0                1                 0   \n",
              "1                 1                  0                0                 0   \n",
              "2                 1                  0                0                 0   \n",
              "3                 1                  0                0                 0   \n",
              "4                 1                  0                0                 0   \n",
              "\n",
              "   poutcome_other  poutcome_success  poutcome_unknown  \n",
              "0               0                 0                 1  \n",
              "1               0                 0                 1  \n",
              "2               0                 0                 1  \n",
              "3               0                 0                 1  \n",
              "4               0                 0                 1  \n",
              "\n",
              "[5 rows x 21 columns]"
            ]
          },
          "metadata": {
            "tags": []
          },
          "execution_count": 20
        }
      ]
    },
    {
      "cell_type": "markdown",
      "metadata": {
        "id": "l13IuG2uNmyF"
      },
      "source": [
        "Devido a atribuição de pesos, estamos com uma amplitude muito alta em algumas colunas, por isso irei aplicar uma nova normalização apenas para essas colunas."
      ]
    },
    {
      "cell_type": "code",
      "metadata": {
        "id": "p26JyJElNm-Y"
      },
      "source": [
        "#normalizando os dados novos\n",
        "sc2 = StandardScaler()\n",
        "\n",
        "aux2 = sc2.fit_transform(data_treino_out_norm_mista[['job','education', 'marital']])#faz o ajuste, calculo da média e do desvio padrão. (- a mpedia) / desvio padrão\n",
        "aux3 = pd.DataFrame(aux2, columns = ['Ocupacao', 'escolaridade', 'civil'])#transforma num data frame o numpy array e adicionado ao data frame\n",
        "data_treino_out_norm_mista = pd.concat([data_treino_out_norm_mista, aux3], axis = 1)#concatena com o o conjunto de dados\n",
        "data_treino_out_norm_mista.drop(['job','education', 'marital'], axis = 1, inplace = True) #dropa as colunas antigas do conjunto de dados"
      ],
      "execution_count": null,
      "outputs": []
    },
    {
      "cell_type": "markdown",
      "metadata": {
        "id": "i0divSHU9VdG"
      },
      "source": [
        "#4 Modelagem\n",
        "\n",
        "Com o pré-processamento terminado, vamos separar os 4 conjunto de dados para inserção nos modelos. \n",
        "\n",
        "Retomando o que fizemos até aqui:\n",
        "\n",
        "\n",
        "*   1 - Fizemos a identificação das variáveis e as relações com o termo de deposito;\n",
        "*   2 - Identificamos algumas colunas com outliers e separamos um conjunto com a remoção de outliers e outro sem tratamento;\n",
        "*   3 - Utilizamos uma abordagem para lidar com as variáveis categóricas, uma transformando as categorias em números e outra criando para cada categoria uma nova coluna.\n",
        "\n"
      ]
    },
    {
      "cell_type": "code",
      "metadata": {
        "colab": {
          "base_uri": "https://localhost:8080/"
        },
        "id": "Ve-N7k7FAerR",
        "outputId": "719fa432-75f8-4faa-fc06-9a204208a737"
      },
      "source": [
        "#Colunas Numerificadas\n",
        "Xtreino_1 = data_treino_out_norm_num.drop(['term_deposit'], axis=1)\n",
        "Ytreino_1 = data_treino_out_norm_num['term_deposit'].to_list()\n",
        "print(Xtreino_1.shape)\n",
        "#Colunas dummificadas\n",
        "Xtreino_2 = data_treino_out_norm_dumi.drop(['term_deposit'], axis=1)\n",
        "Ytreino_2 = data_treino_out_norm_dumi['term_deposit'].to_list()\n",
        "print(Xtreino_2.shape)\n",
        "#Abordagem Mista com Pesos\n",
        "Xtreino_3 = data_treino_out_norm_mista.drop(['term_deposit'], axis=1)\n",
        "Ytreino_3 = data_treino_out_norm_mista['term_deposit'].to_list()\n",
        "print(Xtreino_3.shape)"
      ],
      "execution_count": null,
      "outputs": [
        {
          "output_type": "stream",
          "text": [
            "(6124, 15)\n",
            "(6124, 47)\n",
            "(6124, 20)\n"
          ],
          "name": "stdout"
        }
      ]
    },
    {
      "cell_type": "markdown",
      "metadata": {
        "id": "EwgiNu4yZnuD"
      },
      "source": [
        "##4.1 Método\n",
        "\n",
        "Como método de validação usarei 10-Folds (K-Fold) Estratificado repetindo 10 vezes o método. Isso tende a evitar um overfitting e trazer um modelo mais estável.\n",
        "\n",
        "O K-Fold separa o conjunto de dados K partes iguais, utilizando K-1 delas para treinamento e a parte K para validar (testar) o modelo. Repetindo o processo até que todas as K partições tenham sido utilizadas tanto para treinamento quanto para teste. \n"
      ]
    },
    {
      "cell_type": "code",
      "metadata": {
        "id": "BfkqeGRAZtae"
      },
      "source": [
        "validacao = RepeatedStratifiedKFold(n_splits = 10, n_repeats = 10)"
      ],
      "execution_count": null,
      "outputs": []
    },
    {
      "cell_type": "markdown",
      "metadata": {
        "id": "YpY81EH2cR6y"
      },
      "source": [
        "##4.2 Métrica\n",
        "Como parte da competição utilizaremos o F1-Score, que é uma média harmônica entre a precisão e a sensibilidade. Quando a Precisão estiver baixa, por mais que o Recall esteja alto, o F1-score dara um resultado baixo, e vice-versa. Isso possibilita que olhemos para uma única métrica ao invés de duas.\n"
      ]
    },
    {
      "cell_type": "markdown",
      "metadata": {
        "id": "KyUvZcxTVH6B"
      },
      "source": [
        "Aqui temos uma matriz de confusão, que indica os erros e os acertos do nosso modelo, comparando com o resultado esperado.\n",
        "\n",
        "---\n",
        "<img src=\"https://miro.medium.com/max/1876/1*s7VB26Cfo1LdVZcLou-e0g.png\">\n",
        "\n",
        "---\n",
        "**Verdadeiro** é a predição correta do modelo. **Falso** é a precição errada do modelo.\n",
        "\n",
        "\n",
        ">Sendo a _precision_:\n",
        "\n",
        "$ precision = \\frac{Vp}{Vp + Fp}$\n",
        "\n",
        ">E o _recall_:  \n",
        "\n",
        "$ recall = \\frac{Vp}{Vp + Fn}$\n",
        "\n",
        "Por fim o F1-Score:\n",
        "$ F1 = 2.\\frac{precision.recall}{precision + recall}$"
      ]
    },
    {
      "cell_type": "markdown",
      "metadata": {
        "id": "UKleK4yK_yEI"
      },
      "source": [
        "##4.3 Melhor pré-processamento\n",
        "\n",
        "Devido ao alto custo computacional de testar vários algoritmos, vou selecionar apenas o algoritmo que obteve o melhor desempenho nos testes anteriores realizados durante a competição."
      ]
    },
    {
      "cell_type": "code",
      "metadata": {
        "colab": {
          "base_uri": "https://localhost:8080/"
        },
        "id": "UOLPGyNqHj5K",
        "outputId": "d1959586-e3f3-48fb-d38d-6a42995c17de"
      },
      "source": [
        "modelo_Grad = GradientBoostingClassifier() #Modelo\n",
        "resultados = pd.DataFrame() #dataframe vazio para armazenar os resultados\n",
        "\n",
        "#Abordagem Numerica\n",
        "mol_Grad = cross_validate(modelo_Grad, Xtreino_1, Ytreino_1, cv = validacao, scoring = ['accuracy', 'recall', 'f1', 'precision'],verbose = 1, n_jobs = -1)\n",
        "dic = {'F1-Score': [mol_Grad['test_f1'].mean()], 'Precisão': [mol_Grad['test_precision'].mean()], 'Recall': [mol_Grad['test_recall'].mean()]}\n",
        "resultados = pd.concat([resultados, pd.DataFrame(dic, index = ['Numerica'])])\n",
        "\n",
        "#Abordagem Dummy\n",
        "mol_Grad = cross_validate(modelo_Grad, Xtreino_2, Ytreino_2, cv = validacao, scoring = ['accuracy', 'recall', 'f1', 'precision'],verbose = 1, n_jobs = -1)\n",
        "dic = {'F1-Score': [mol_Grad['test_f1'].mean()], 'Precisão': [mol_Grad['test_precision'].mean()], 'Recall': [mol_Grad['test_recall'].mean()]}\n",
        "resultados = pd.concat([resultados, pd.DataFrame(dic, index = ['Dummy'])])\n",
        "\n",
        "#Abordagem Mista\n",
        "mol_Grad = cross_validate(modelo_Grad, Xtreino_3, Ytreino_3, cv = validacao, scoring = ['accuracy', 'recall', 'f1', 'precision'],verbose = 1, n_jobs = -1)\n",
        "dic = {'F1-Score': [mol_Grad['test_f1'].mean()], 'Precisão': [mol_Grad['test_precision'].mean()], 'Recall': [mol_Grad['test_recall'].mean()]}\n",
        "resultados = pd.concat([resultados, pd.DataFrame(dic, index = ['Mista'])])\n",
        "\n",
        "resultados = resultados.sort_values('F1-Score', ascending=False)"
      ],
      "execution_count": null,
      "outputs": [
        {
          "output_type": "stream",
          "text": [
            "[Parallel(n_jobs=-1)]: Using backend LokyBackend with 4 concurrent workers.\n",
            "[Parallel(n_jobs=-1)]: Done  42 tasks      | elapsed:   24.8s\n",
            "[Parallel(n_jobs=-1)]: Done 100 out of 100 | elapsed:   49.1s finished\n",
            "[Parallel(n_jobs=-1)]: Using backend LokyBackend with 4 concurrent workers.\n",
            "[Parallel(n_jobs=-1)]: Done  42 tasks      | elapsed:   27.0s\n",
            "[Parallel(n_jobs=-1)]: Done 100 out of 100 | elapsed:   57.3s finished\n",
            "[Parallel(n_jobs=-1)]: Using backend LokyBackend with 4 concurrent workers.\n",
            "[Parallel(n_jobs=-1)]: Done  42 tasks      | elapsed:   17.1s\n",
            "[Parallel(n_jobs=-1)]: Done 100 out of 100 | elapsed:   39.1s finished\n"
          ],
          "name": "stderr"
        }
      ]
    },
    {
      "cell_type": "code",
      "metadata": {
        "colab": {
          "base_uri": "https://localhost:8080/",
          "height": 143
        },
        "id": "LDThQTznD7w3",
        "outputId": "e0bc6605-05de-4319-88fa-02f6017d43ba"
      },
      "source": [
        "resultados.head(40)#Exibindo os resultados"
      ],
      "execution_count": null,
      "outputs": [
        {
          "output_type": "execute_result",
          "data": {
            "text/html": [
              "<div>\n",
              "<style scoped>\n",
              "    .dataframe tbody tr th:only-of-type {\n",
              "        vertical-align: middle;\n",
              "    }\n",
              "\n",
              "    .dataframe tbody tr th {\n",
              "        vertical-align: top;\n",
              "    }\n",
              "\n",
              "    .dataframe thead th {\n",
              "        text-align: right;\n",
              "    }\n",
              "</style>\n",
              "<table border=\"1\" class=\"dataframe\">\n",
              "  <thead>\n",
              "    <tr style=\"text-align: right;\">\n",
              "      <th></th>\n",
              "      <th>F1-Score</th>\n",
              "      <th>Precisão</th>\n",
              "      <th>Recall</th>\n",
              "    </tr>\n",
              "  </thead>\n",
              "  <tbody>\n",
              "    <tr>\n",
              "      <th>Mista</th>\n",
              "      <td>0.683777</td>\n",
              "      <td>0.719822</td>\n",
              "      <td>0.651769</td>\n",
              "    </tr>\n",
              "    <tr>\n",
              "      <th>Numerica</th>\n",
              "      <td>0.681926</td>\n",
              "      <td>0.718763</td>\n",
              "      <td>0.649258</td>\n",
              "    </tr>\n",
              "    <tr>\n",
              "      <th>Dummy</th>\n",
              "      <td>0.677281</td>\n",
              "      <td>0.722191</td>\n",
              "      <td>0.638126</td>\n",
              "    </tr>\n",
              "  </tbody>\n",
              "</table>\n",
              "</div>"
            ],
            "text/plain": [
              "          F1-Score  Precisão    Recall\n",
              "Mista     0.683777  0.719822  0.651769\n",
              "Numerica  0.681926  0.718763  0.649258\n",
              "Dummy     0.677281  0.722191  0.638126"
            ]
          },
          "metadata": {
            "tags": []
          },
          "execution_count": 24
        }
      ]
    },
    {
      "cell_type": "markdown",
      "metadata": {
        "id": "Ieqcjp1VZ3fx"
      },
      "source": [
        "O pré-processamento misto teve um desempenho ligeiramente melhor do que a numerificação das colunas. Já a Dummy mostrou o pior resultado com o algoritmo testado.\n",
        "\n",
        "Aqui vale uma ressalva, que dependendo do algoritmo base testado, outro conjunto poderia ter tido um resultado melhor. Entretanto, como buscamos os 3 melhores modelos para fazer uma combinação, os melhores resultados alcançados foram alcançados com os conjuntos numérico e misto na maioria dos casos."
      ]
    },
    {
      "cell_type": "markdown",
      "metadata": {
        "id": "Vys1vcs6vNY_"
      },
      "source": [
        "##4.4 Melhores Modelos\n",
        "\n",
        "Definido o melhor conjunto de dados pré-processados para a métrica F1-Score, vamos para a próxima etapa: buscar os melhores algoritmos para fazer uma combinação de modelos.\n",
        "\n",
        "Essa é a segunda etapa que exige um grande poder computacional deste projeto, podendo levar um tempo considerável. Deixarei as saídas com os tempos de execução de cada algoritmos."
      ]
    },
    {
      "cell_type": "code",
      "metadata": {
        "id": "Tc5A7wzkHJYt"
      },
      "source": [
        "#Nomes dos classificadores considerados\n",
        "nome = [\n",
        "    '5-Vizinhos Mais Próximos',\n",
        "    '45-Vizinhos Mais Próximos',\n",
        "    'Default-Vizinhos Mais Próximos',\n",
        "    'Árvore de Decisão',\n",
        "    'Regressão Logística', \n",
        "    'Análise Discriminante Linear',\n",
        "    'Análise Discriminante Quadrática',\n",
        "    'Bagging de Árvores',\n",
        "    'Bagging de Regressão Logística',\n",
        "    'Floresta Aleatória',\n",
        "    'AdaBoost',\n",
        "    'Extra Árvores',\n",
        "    'Classificador Passivo Agressivo',\n",
        "    'Gradient Boosting',\n",
        "    'Gaussian Naive Bayes', \n",
        "    'Support Vector Machine (Linear)',\n",
        "    'Support Vector Machine (RBF)',\n",
        "    'Support Vector Machine (Poli.G3)',\n",
        "    'Support Vector Machine (Sigmoid)',\n",
        "    'Rede Neural Perceptron',\n",
        "    'Rede Neural MLP (10)',\n",
        "    'Rede Neural MLP (10,10)',\n",
        "    'Rede Neural MLP (100)']\n",
        "\n",
        "#Classificadores considerados\n",
        "classifiers = [\n",
        "    KNeighborsClassifier(n_neighbors = 5),\n",
        "    KNeighborsClassifier(n_neighbors = 45),\n",
        "    KNeighborsClassifier(),\n",
        "    DecisionTreeClassifier(),\n",
        "    LogisticRegression(), \n",
        "    LinearDiscriminantAnalysis(),\n",
        "    QuadraticDiscriminantAnalysis(),\n",
        "    BaggingClassifier(),\n",
        "    BaggingClassifier(base_estimator = LogisticRegression()),\n",
        "    RandomForestClassifier(),\n",
        "    AdaBoostClassifier(),\n",
        "    ExtraTreesClassifier(),\n",
        "    PassiveAggressiveClassifier(),\n",
        "    GradientBoostingClassifier(),\n",
        "    GaussianNB(), \n",
        "    SVC(kernel = 'linear'),\n",
        "    SVC(kernel = 'rbf'),\n",
        "    SVC(kernel = 'poly'),\n",
        "    SVC(kernel = 'sigmoid'),\n",
        "    Perceptron(),\n",
        "    MLPClassifier(hidden_layer_sizes=(10), max_iter = 1000),\n",
        "    MLPClassifier(hidden_layer_sizes=(10,10), max_iter = 1000),\n",
        "    MLPClassifier(hidden_layer_sizes=(100), max_iter = 1000)]"
      ],
      "execution_count": null,
      "outputs": []
    },
    {
      "cell_type": "markdown",
      "metadata": {
        "id": "mUv7vmyX_yT8"
      },
      "source": [
        "Definido os modelos, vamos agora colocar em um laço de repetição para percorrer todos com o conjunto de dados escolhido anteriormente.\n",
        "\n",
        "Usaremos o mesmo método de validação K-Fold para mesma métrica F1."
      ]
    },
    {
      "cell_type": "code",
      "metadata": {
        "colab": {
          "background_save": true,
          "base_uri": "https://localhost:8080/"
        },
        "id": "QFFzW3V55nEP",
        "outputId": "24e0c1b2-f883-42c7-a9c2-927447bc4612"
      },
      "source": [
        "validacao = RepeatedStratifiedKFold(n_splits = 10, n_repeats = 10)#Validação KFold Estratificado\n",
        "resultados = pd.DataFrame() #dataframe vazio para guardar os resultados\n",
        "i = 1\n",
        "for i, modelo in enumerate(classifiers):\n",
        "    print('Ajustando o modelo', nome[i])\n",
        "    mol_testes = cross_validate(modelo, Xtreino_3, Ytreino_3, cv = validacao, \n",
        "                                scoring = ['accuracy','recall', 'f1', 'precision'],\n",
        "                                verbose = 2, n_jobs = -1)\n",
        "    #atribui as métricas para o dataframe para comparação\n",
        "    acc = mol_testes['test_accuracy'].mean() #vamos guardar também a accuracy para efeitos de comparação\n",
        "    f1s = mol_testes['test_f1'].mean()\n",
        "    pre = mol_testes['test_precision'].mean()\n",
        "    rec = mol_testes['test_recall'].mean()\n",
        "    #Atribuindo os resultado ao dataframe resultados\n",
        "    dic = {'F1-Score': [f1s], 'Precisão': [pre], 'Recall': [rec], 'Acurácia': [acc]}\n",
        "    aux = pd.DataFrame(dic, index = [nome[i]])\n",
        "    resultados = pd.concat([resultados, aux])\n"
      ],
      "execution_count": null,
      "outputs": [
        {
          "output_type": "stream",
          "text": [
            "[Parallel(n_jobs=-1)]: Using backend LokyBackend with 4 concurrent workers.\n"
          ],
          "name": "stderr"
        },
        {
          "output_type": "stream",
          "text": [
            "Ajustando o modelo 5-Vizinhos Mais Próximos\n"
          ],
          "name": "stdout"
        },
        {
          "output_type": "stream",
          "text": [
            "[Parallel(n_jobs=-1)]: Done  24 tasks      | elapsed:    2.5s\n",
            "[Parallel(n_jobs=-1)]: Done 100 out of 100 | elapsed:   10.0s finished\n",
            "[Parallel(n_jobs=-1)]: Using backend LokyBackend with 4 concurrent workers.\n"
          ],
          "name": "stderr"
        },
        {
          "output_type": "stream",
          "text": [
            "Ajustando o modelo 45-Vizinhos Mais Próximos\n"
          ],
          "name": "stdout"
        },
        {
          "output_type": "stream",
          "text": [
            "[Parallel(n_jobs=-1)]: Done  24 tasks      | elapsed:    3.0s\n",
            "[Parallel(n_jobs=-1)]: Done 100 out of 100 | elapsed:   12.5s finished\n",
            "[Parallel(n_jobs=-1)]: Using backend LokyBackend with 4 concurrent workers.\n"
          ],
          "name": "stderr"
        },
        {
          "output_type": "stream",
          "text": [
            "Ajustando o modelo Default-Vizinhos Mais Próximos\n"
          ],
          "name": "stdout"
        },
        {
          "output_type": "stream",
          "text": [
            "[Parallel(n_jobs=-1)]: Done  24 tasks      | elapsed:    2.5s\n",
            "[Parallel(n_jobs=-1)]: Done 100 out of 100 | elapsed:   10.0s finished\n",
            "[Parallel(n_jobs=-1)]: Using backend LokyBackend with 4 concurrent workers.\n"
          ],
          "name": "stderr"
        },
        {
          "output_type": "stream",
          "text": [
            "Ajustando o modelo Árvore de Decisão\n"
          ],
          "name": "stdout"
        },
        {
          "output_type": "stream",
          "text": [
            "[Parallel(n_jobs=-1)]: Done  40 tasks      | elapsed:    1.0s\n",
            "[Parallel(n_jobs=-1)]: Done 100 out of 100 | elapsed:    2.6s finished\n",
            "[Parallel(n_jobs=-1)]: Using backend LokyBackend with 4 concurrent workers.\n"
          ],
          "name": "stderr"
        },
        {
          "output_type": "stream",
          "text": [
            "Ajustando o modelo Regressão Logística\n"
          ],
          "name": "stdout"
        },
        {
          "output_type": "stream",
          "text": [
            "[Parallel(n_jobs=-1)]: Done  24 tasks      | elapsed:    1.5s\n",
            "[Parallel(n_jobs=-1)]: Done 100 out of 100 | elapsed:    6.1s finished\n",
            "[Parallel(n_jobs=-1)]: Using backend LokyBackend with 4 concurrent workers.\n"
          ],
          "name": "stderr"
        },
        {
          "output_type": "stream",
          "text": [
            "Ajustando o modelo Análise Discriminante Linear\n"
          ],
          "name": "stdout"
        },
        {
          "output_type": "stream",
          "text": [
            "[Parallel(n_jobs=-1)]: Done  40 tasks      | elapsed:    0.9s\n",
            "[Parallel(n_jobs=-1)]: Done 100 out of 100 | elapsed:    2.2s finished\n",
            "[Parallel(n_jobs=-1)]: Using backend LokyBackend with 4 concurrent workers.\n"
          ],
          "name": "stderr"
        },
        {
          "output_type": "stream",
          "text": [
            "Ajustando o modelo Análise Discriminante Quadrática\n"
          ],
          "name": "stdout"
        },
        {
          "output_type": "stream",
          "text": [
            "[Parallel(n_jobs=-1)]: Done  56 tasks      | elapsed:    0.8s\n",
            "[Parallel(n_jobs=-1)]: Done 100 out of 100 | elapsed:    1.4s finished\n",
            "[Parallel(n_jobs=-1)]: Using backend LokyBackend with 4 concurrent workers.\n"
          ],
          "name": "stderr"
        },
        {
          "output_type": "stream",
          "text": [
            "Ajustando o modelo Bagging de Árvores\n"
          ],
          "name": "stdout"
        },
        {
          "output_type": "stream",
          "text": [
            "[Parallel(n_jobs=-1)]: Done  24 tasks      | elapsed:    3.0s\n",
            "[Parallel(n_jobs=-1)]: Done 100 out of 100 | elapsed:   12.5s finished\n",
            "[Parallel(n_jobs=-1)]: Using backend LokyBackend with 4 concurrent workers.\n"
          ],
          "name": "stderr"
        },
        {
          "output_type": "stream",
          "text": [
            "Ajustando o modelo Bagging de Regressão Logística\n"
          ],
          "name": "stdout"
        },
        {
          "output_type": "stream",
          "text": [
            "[Parallel(n_jobs=-1)]: Done  24 tasks      | elapsed:   14.6s\n",
            "[Parallel(n_jobs=-1)]: Done 100 out of 100 | elapsed:   55.5s finished\n",
            "[Parallel(n_jobs=-1)]: Using backend LokyBackend with 4 concurrent workers.\n"
          ],
          "name": "stderr"
        },
        {
          "output_type": "stream",
          "text": [
            "Ajustando o modelo Floresta Aleatória\n"
          ],
          "name": "stdout"
        },
        {
          "output_type": "stream",
          "text": [
            "[Parallel(n_jobs=-1)]: Done  24 tasks      | elapsed:   11.2s\n",
            "[Parallel(n_jobs=-1)]: Done 100 out of 100 | elapsed:   48.9s finished\n",
            "[Parallel(n_jobs=-1)]: Using backend LokyBackend with 4 concurrent workers.\n"
          ],
          "name": "stderr"
        },
        {
          "output_type": "stream",
          "text": [
            "Ajustando o modelo AdaBoost\n"
          ],
          "name": "stdout"
        },
        {
          "output_type": "stream",
          "text": [
            "[Parallel(n_jobs=-1)]: Done  24 tasks      | elapsed:    4.5s\n",
            "[Parallel(n_jobs=-1)]: Done 100 out of 100 | elapsed:   19.0s finished\n",
            "[Parallel(n_jobs=-1)]: Using backend LokyBackend with 4 concurrent workers.\n"
          ],
          "name": "stderr"
        },
        {
          "output_type": "stream",
          "text": [
            "Ajustando o modelo Extra Árvores\n"
          ],
          "name": "stdout"
        },
        {
          "output_type": "stream",
          "text": [
            "[Parallel(n_jobs=-1)]: Done  24 tasks      | elapsed:   13.6s\n",
            "[Parallel(n_jobs=-1)]: Done 100 out of 100 | elapsed:   48.6s finished\n",
            "[Parallel(n_jobs=-1)]: Using backend LokyBackend with 4 concurrent workers.\n"
          ],
          "name": "stderr"
        },
        {
          "output_type": "stream",
          "text": [
            "Ajustando o modelo Classificador Passivo Agressivo\n"
          ],
          "name": "stdout"
        },
        {
          "output_type": "stream",
          "text": [
            "[Parallel(n_jobs=-1)]: Done  56 tasks      | elapsed:    0.8s\n",
            "[Parallel(n_jobs=-1)]: Done 100 out of 100 | elapsed:    1.3s finished\n",
            "[Parallel(n_jobs=-1)]: Using backend LokyBackend with 4 concurrent workers.\n"
          ],
          "name": "stderr"
        },
        {
          "output_type": "stream",
          "text": [
            "Ajustando o modelo Gradient Boosting\n"
          ],
          "name": "stdout"
        },
        {
          "output_type": "stream",
          "text": [
            "[Parallel(n_jobs=-1)]: Done  24 tasks      | elapsed:    9.6s\n",
            "[Parallel(n_jobs=-1)]: Done 100 out of 100 | elapsed:   40.1s finished\n",
            "[Parallel(n_jobs=-1)]: Using backend LokyBackend with 4 concurrent workers.\n"
          ],
          "name": "stderr"
        },
        {
          "output_type": "stream",
          "text": [
            "Ajustando o modelo Gaussian Naive Bayes\n"
          ],
          "name": "stdout"
        },
        {
          "output_type": "stream",
          "text": [
            "[Parallel(n_jobs=-1)]: Done  56 tasks      | elapsed:    0.6s\n",
            "[Parallel(n_jobs=-1)]: Done 100 out of 100 | elapsed:    1.1s finished\n",
            "[Parallel(n_jobs=-1)]: Using backend LokyBackend with 4 concurrent workers.\n"
          ],
          "name": "stderr"
        },
        {
          "output_type": "stream",
          "text": [
            "Ajustando o modelo Support Vector Machine (Linear)\n"
          ],
          "name": "stdout"
        },
        {
          "output_type": "stream",
          "text": [
            "[Parallel(n_jobs=-1)]: Done  24 tasks      | elapsed:   34.2s\n",
            "[Parallel(n_jobs=-1)]: Done 100 out of 100 | elapsed:  2.2min finished\n",
            "[Parallel(n_jobs=-1)]: Using backend LokyBackend with 4 concurrent workers.\n"
          ],
          "name": "stderr"
        },
        {
          "output_type": "stream",
          "text": [
            "Ajustando o modelo Support Vector Machine (RBF)\n"
          ],
          "name": "stdout"
        },
        {
          "output_type": "stream",
          "text": [
            "[Parallel(n_jobs=-1)]: Done  24 tasks      | elapsed:   21.9s\n",
            "[Parallel(n_jobs=-1)]: Done 100 out of 100 | elapsed:  1.5min finished\n",
            "[Parallel(n_jobs=-1)]: Using backend LokyBackend with 4 concurrent workers.\n"
          ],
          "name": "stderr"
        },
        {
          "output_type": "stream",
          "text": [
            "Ajustando o modelo Support Vector Machine (Poli.G3)\n"
          ],
          "name": "stdout"
        },
        {
          "output_type": "stream",
          "text": [
            "[Parallel(n_jobs=-1)]: Done  24 tasks      | elapsed:   22.4s\n",
            "[Parallel(n_jobs=-1)]: Done 100 out of 100 | elapsed:  1.5min finished\n",
            "[Parallel(n_jobs=-1)]: Using backend LokyBackend with 4 concurrent workers.\n"
          ],
          "name": "stderr"
        },
        {
          "output_type": "stream",
          "text": [
            "Ajustando o modelo Support Vector Machine (Sigmoid)\n"
          ],
          "name": "stdout"
        },
        {
          "output_type": "stream",
          "text": [
            "[Parallel(n_jobs=-1)]: Done  24 tasks      | elapsed:   12.7s\n",
            "[Parallel(n_jobs=-1)]: Done 100 out of 100 | elapsed:   51.0s finished\n",
            "[Parallel(n_jobs=-1)]: Using backend LokyBackend with 4 concurrent workers.\n"
          ],
          "name": "stderr"
        },
        {
          "output_type": "stream",
          "text": [
            "Ajustando o modelo Rede Neural Perceptron\n"
          ],
          "name": "stdout"
        },
        {
          "output_type": "stream",
          "text": [
            "[Parallel(n_jobs=-1)]: Done  56 tasks      | elapsed:    0.7s\n",
            "[Parallel(n_jobs=-1)]: Done 100 out of 100 | elapsed:    1.3s finished\n",
            "[Parallel(n_jobs=-1)]: Using backend LokyBackend with 4 concurrent workers.\n"
          ],
          "name": "stderr"
        },
        {
          "output_type": "stream",
          "text": [
            "Ajustando o modelo Rede Neural MLP (10)\n"
          ],
          "name": "stdout"
        },
        {
          "output_type": "stream",
          "text": [
            "[Parallel(n_jobs=-1)]: Done  24 tasks      | elapsed:  1.1min\n",
            "[Parallel(n_jobs=-1)]: Done 100 out of 100 | elapsed:  4.6min finished\n",
            "[Parallel(n_jobs=-1)]: Using backend LokyBackend with 4 concurrent workers.\n"
          ],
          "name": "stderr"
        },
        {
          "output_type": "stream",
          "text": [
            "Ajustando o modelo Rede Neural MLP (10,10)\n"
          ],
          "name": "stdout"
        },
        {
          "output_type": "stream",
          "text": [
            "[Parallel(n_jobs=-1)]: Done  24 tasks      | elapsed:  1.7min\n",
            "[Parallel(n_jobs=-1)]: Done 100 out of 100 | elapsed:  6.9min finished\n",
            "[Parallel(n_jobs=-1)]: Using backend LokyBackend with 4 concurrent workers.\n"
          ],
          "name": "stderr"
        },
        {
          "output_type": "stream",
          "text": [
            "Ajustando o modelo Rede Neural MLP (100)\n"
          ],
          "name": "stdout"
        },
        {
          "output_type": "stream",
          "text": [
            "[Parallel(n_jobs=-1)]: Done  24 tasks      | elapsed:  4.0min\n",
            "[Parallel(n_jobs=-1)]: Done 100 out of 100 | elapsed: 15.8min finished\n"
          ],
          "name": "stderr"
        }
      ]
    },
    {
      "cell_type": "code",
      "metadata": {
        "colab": {
          "background_save": true
        },
        "id": "PiHWbaNxO3U-",
        "outputId": "b633d906-b03c-4bd8-fd1d-ff088f9cae4b"
      },
      "source": [
        "resultados = resultados.sort_values('F1-Score', ascending=False) #organiza o dataframe segundo o F1\n",
        "resultados.head(40)"
      ],
      "execution_count": null,
      "outputs": [
        {
          "output_type": "execute_result",
          "data": {
            "text/html": [
              "<div>\n",
              "<style scoped>\n",
              "    .dataframe tbody tr th:only-of-type {\n",
              "        vertical-align: middle;\n",
              "    }\n",
              "\n",
              "    .dataframe tbody tr th {\n",
              "        vertical-align: top;\n",
              "    }\n",
              "\n",
              "    .dataframe thead th {\n",
              "        text-align: right;\n",
              "    }\n",
              "</style>\n",
              "<table border=\"1\" class=\"dataframe\">\n",
              "  <thead>\n",
              "    <tr style=\"text-align: right;\">\n",
              "      <th></th>\n",
              "      <th>F1-Score</th>\n",
              "      <th>Precisão</th>\n",
              "      <th>Recall</th>\n",
              "      <th>Acurácia</th>\n",
              "    </tr>\n",
              "  </thead>\n",
              "  <tbody>\n",
              "    <tr>\n",
              "      <th>Gradient Boosting</th>\n",
              "      <td>0.683783</td>\n",
              "      <td>0.718292</td>\n",
              "      <td>0.653185</td>\n",
              "      <td>0.693714</td>\n",
              "    </tr>\n",
              "    <tr>\n",
              "      <th>Support Vector Machine (Poli.G3)</th>\n",
              "      <td>0.679508</td>\n",
              "      <td>0.644261</td>\n",
              "      <td>0.719274</td>\n",
              "      <td>0.655683</td>\n",
              "    </tr>\n",
              "    <tr>\n",
              "      <th>Floresta Aleatória</th>\n",
              "      <td>0.678338</td>\n",
              "      <td>0.706758</td>\n",
              "      <td>0.652670</td>\n",
              "      <td>0.685955</td>\n",
              "    </tr>\n",
              "    <tr>\n",
              "      <th>Support Vector Machine (RBF)</th>\n",
              "      <td>0.675998</td>\n",
              "      <td>0.664639</td>\n",
              "      <td>0.688290</td>\n",
              "      <td>0.665316</td>\n",
              "    </tr>\n",
              "    <tr>\n",
              "      <th>Support Vector Machine (Linear)</th>\n",
              "      <td>0.675903</td>\n",
              "      <td>0.595377</td>\n",
              "      <td>0.782338</td>\n",
              "      <td>0.619187</td>\n",
              "    </tr>\n",
              "    <tr>\n",
              "      <th>Análise Discriminante Linear</th>\n",
              "      <td>0.665774</td>\n",
              "      <td>0.640794</td>\n",
              "      <td>0.693244</td>\n",
              "      <td>0.646995</td>\n",
              "    </tr>\n",
              "    <tr>\n",
              "      <th>AdaBoost</th>\n",
              "      <td>0.665202</td>\n",
              "      <td>0.688965</td>\n",
              "      <td>0.643663</td>\n",
              "      <td>0.671470</td>\n",
              "    </tr>\n",
              "    <tr>\n",
              "      <th>Regressão Logística</th>\n",
              "      <td>0.664366</td>\n",
              "      <td>0.643574</td>\n",
              "      <td>0.687067</td>\n",
              "      <td>0.647944</td>\n",
              "    </tr>\n",
              "    <tr>\n",
              "      <th>Extra Árvores</th>\n",
              "      <td>0.663830</td>\n",
              "      <td>0.683386</td>\n",
              "      <td>0.645942</td>\n",
              "      <td>0.668175</td>\n",
              "    </tr>\n",
              "    <tr>\n",
              "      <th>Bagging de Regressão Logística</th>\n",
              "      <td>0.663777</td>\n",
              "      <td>0.643667</td>\n",
              "      <td>0.685912</td>\n",
              "      <td>0.647570</td>\n",
              "    </tr>\n",
              "    <tr>\n",
              "      <th>Rede Neural MLP (10)</th>\n",
              "      <td>0.659846</td>\n",
              "      <td>0.670681</td>\n",
              "      <td>0.650353</td>\n",
              "      <td>0.660089</td>\n",
              "    </tr>\n",
              "    <tr>\n",
              "      <th>Rede Neural MLP (10,10)</th>\n",
              "      <td>0.652648</td>\n",
              "      <td>0.681499</td>\n",
              "      <td>0.627481</td>\n",
              "      <td>0.661708</td>\n",
              "    </tr>\n",
              "    <tr>\n",
              "      <th>Rede Neural MLP (100)</th>\n",
              "      <td>0.646071</td>\n",
              "      <td>0.669982</td>\n",
              "      <td>0.625639</td>\n",
              "      <td>0.652824</td>\n",
              "    </tr>\n",
              "    <tr>\n",
              "      <th>Bagging de Árvores</th>\n",
              "      <td>0.634767</td>\n",
              "      <td>0.692556</td>\n",
              "      <td>0.586362</td>\n",
              "      <td>0.657758</td>\n",
              "    </tr>\n",
              "    <tr>\n",
              "      <th>45-Vizinhos Mais Próximos</th>\n",
              "      <td>0.631383</td>\n",
              "      <td>0.703908</td>\n",
              "      <td>0.572977</td>\n",
              "      <td>0.660664</td>\n",
              "    </tr>\n",
              "    <tr>\n",
              "      <th>Default-Vizinhos Mais Próximos</th>\n",
              "      <td>0.619583</td>\n",
              "      <td>0.660214</td>\n",
              "      <td>0.584335</td>\n",
              "      <td>0.636182</td>\n",
              "    </tr>\n",
              "    <tr>\n",
              "      <th>5-Vizinhos Mais Próximos</th>\n",
              "      <td>0.619131</td>\n",
              "      <td>0.658896</td>\n",
              "      <td>0.584365</td>\n",
              "      <td>0.635400</td>\n",
              "    </tr>\n",
              "    <tr>\n",
              "      <th>Árvore de Decisão</th>\n",
              "      <td>0.615062</td>\n",
              "      <td>0.615601</td>\n",
              "      <td>0.615056</td>\n",
              "      <td>0.609651</td>\n",
              "    </tr>\n",
              "    <tr>\n",
              "      <th>Support Vector Machine (Sigmoid)</th>\n",
              "      <td>0.533837</td>\n",
              "      <td>0.537182</td>\n",
              "      <td>0.531044</td>\n",
              "      <td>0.529865</td>\n",
              "    </tr>\n",
              "    <tr>\n",
              "      <th>Análise Discriminante Quadrática</th>\n",
              "      <td>0.519656</td>\n",
              "      <td>0.677726</td>\n",
              "      <td>0.433648</td>\n",
              "      <td>0.605536</td>\n",
              "    </tr>\n",
              "    <tr>\n",
              "      <th>Rede Neural Perceptron</th>\n",
              "      <td>0.517432</td>\n",
              "      <td>0.625486</td>\n",
              "      <td>0.577493</td>\n",
              "      <td>0.562509</td>\n",
              "    </tr>\n",
              "    <tr>\n",
              "      <th>Classificador Passivo Agressivo</th>\n",
              "      <td>0.509403</td>\n",
              "      <td>0.612454</td>\n",
              "      <td>0.559521</td>\n",
              "      <td>0.556910</td>\n",
              "    </tr>\n",
              "    <tr>\n",
              "      <th>Gaussian Naive Bayes</th>\n",
              "      <td>0.484144</td>\n",
              "      <td>0.671547</td>\n",
              "      <td>0.379516</td>\n",
              "      <td>0.591151</td>\n",
              "    </tr>\n",
              "  </tbody>\n",
              "</table>\n",
              "</div>"
            ],
            "text/plain": [
              "                                  F1-Score  Precisão    Recall  Acurácia\n",
              "Gradient Boosting                 0.683783  0.718292  0.653185  0.693714\n",
              "Support Vector Machine (Poli.G3)  0.679508  0.644261  0.719274  0.655683\n",
              "Floresta Aleatória                0.678338  0.706758  0.652670  0.685955\n",
              "Support Vector Machine (RBF)      0.675998  0.664639  0.688290  0.665316\n",
              "Support Vector Machine (Linear)   0.675903  0.595377  0.782338  0.619187\n",
              "Análise Discriminante Linear      0.665774  0.640794  0.693244  0.646995\n",
              "AdaBoost                          0.665202  0.688965  0.643663  0.671470\n",
              "Regressão Logística               0.664366  0.643574  0.687067  0.647944\n",
              "Extra Árvores                     0.663830  0.683386  0.645942  0.668175\n",
              "Bagging de Regressão Logística    0.663777  0.643667  0.685912  0.647570\n",
              "Rede Neural MLP (10)              0.659846  0.670681  0.650353  0.660089\n",
              "Rede Neural MLP (10,10)           0.652648  0.681499  0.627481  0.661708\n",
              "Rede Neural MLP (100)             0.646071  0.669982  0.625639  0.652824\n",
              "Bagging de Árvores                0.634767  0.692556  0.586362  0.657758\n",
              "45-Vizinhos Mais Próximos         0.631383  0.703908  0.572977  0.660664\n",
              "Default-Vizinhos Mais Próximos    0.619583  0.660214  0.584335  0.636182\n",
              "5-Vizinhos Mais Próximos          0.619131  0.658896  0.584365  0.635400\n",
              "Árvore de Decisão                 0.615062  0.615601  0.615056  0.609651\n",
              "Support Vector Machine (Sigmoid)  0.533837  0.537182  0.531044  0.529865\n",
              "Análise Discriminante Quadrática  0.519656  0.677726  0.433648  0.605536\n",
              "Rede Neural Perceptron            0.517432  0.625486  0.577493  0.562509\n",
              "Classificador Passivo Agressivo   0.509403  0.612454  0.559521  0.556910\n",
              "Gaussian Naive Bayes              0.484144  0.671547  0.379516  0.591151"
            ]
          },
          "metadata": {
            "tags": []
          },
          "execution_count": 27
        }
      ]
    },
    {
      "cell_type": "markdown",
      "metadata": {
        "id": "z1Wpcl_ZdF6n"
      },
      "source": [
        "Podemos observar pelos tempos de execução, que os maiores tempos de treinamento ficaram por conta de modelos de redes neurais MLP e SVM, que não necessariamente, se saíram melhor que outros modelos menos custosos.\n",
        "\n",
        "Por fim temos que o _Gradient Boosting_ ficou com o melhor F1-Score, seguidos do SVM e da Floresta Aleatória (_Randon Forest_). \n",
        "\n",
        "Vamos usar esses três modelos para fazer uma combinação _Hard_, mas antes vamos buscar seus melhores hyperparâmetros para que obtenham melhores resultados que seus algoritmos base.\n",
        "\n"
      ]
    },
    {
      "cell_type": "markdown",
      "metadata": {
        "id": "HQ9wQzEgE66J"
      },
      "source": [
        "### 4.4.1 Comparação Gráfica dos resultado"
      ]
    },
    {
      "cell_type": "code",
      "metadata": {
        "colab": {
          "background_save": true
        },
        "id": "ZJR337__E5Vt",
        "outputId": "ee17a250-b783-4856-8a54-13c636512bb0"
      },
      "source": [
        "#Gráficos relevantes\n",
        "sns.set_color_codes(\"muted\")\n",
        "bgcolor = '#d9e7ff'\n",
        "ticagem = [.1, .2, .3, .4, 0.5, .6,.7,.8,.9]\n",
        "figura = plt.figure(figsize=(40,20)) \n",
        "figura.subplots_adjust(left=0.2, bottom=0.1, right=0.9, top=0.9, wspace=0.02, hspace=1)\n",
        "\n",
        "plt.subplot(1, 3, 1)\n",
        "plt.title('F1-Score')\n",
        "acc = sns.barplot(x = resultados.iloc[:,0], y = resultados.index.values, color='b')\n",
        "acc.axes.set_xlim([0, 1])\n",
        "acc.xaxis.set_ticks(ticagem)\n",
        "acc.set_facecolor(bgcolor)\n",
        "plt.xlabel('')\n",
        "\n",
        "plt.subplot(1, 3, 2)\n",
        "plt.title('Precisão')\n",
        "auc = sns.barplot(x = resultados.iloc[:,1], y = resultados.index.values, color='r')\n",
        "auc.axes.get_yaxis().set_visible(False)\n",
        "auc.axes.set_xlim([0, 1])\n",
        "auc.xaxis.set_ticks(ticagem)\n",
        "auc.set_facecolor(bgcolor)\n",
        "plt.xlabel('')\n",
        "plt.ylabel('')\n",
        "\n",
        "plt.subplot(1, 3, 3)\n",
        "plt.title('Recall')\n",
        "f1 = sns.barplot(x = resultados.iloc[:,2], y = resultados.index.values, color='g')\n",
        "f1.axes.set_xlim([0, 1])\n",
        "f1.xaxis.set_ticks(ticagem)\n",
        "f1.axes.get_yaxis().set_visible(False)\n",
        "f1.set_facecolor(bgcolor)\n",
        "plt.xlabel('')\n",
        "plt.ylabel('') \n",
        "\n",
        "plt.show()\n",
        "figura.savefig('medidas.pdf')#Salvando o gráfico"
      ],
      "execution_count": null,
      "outputs": [
        {
          "output_type": "display_data",
          "data": {
            "image/png": "[encoded data removed]",
            "text/plain": [
              "<Figure size 2880x1440 with 3 Axes>"
            ]
          },
          "metadata": {
            "tags": [],
            "needs_background": "light"
          }
        }
      ]
    },
    {
      "cell_type": "markdown",
      "metadata": {
        "id": "zZdwceQJd1jw"
      },
      "source": [
        "Um detalhe interessante é que a métrica F1-Score é uma média harmônica entre a Precisão e a Sensibilidade do modelo, por isso vemos que alguns modelos uma precisão maior, enquanto outros tem uma sensibilidade maior, alcançando quase os mesmos resultados do F1."
      ]
    },
    {
      "cell_type": "markdown",
      "metadata": {
        "id": "yPl6IuPnF1ZZ"
      },
      "source": [
        "#5 Busca por Melhores Hiperparâmetros\n",
        "\n",
        "Escolhido o melhor pré-processamento e melhores algoritmos vamos fazer a tunagem de hiperparâmetros utilizando a função GridSearch, que busca a combinação de todos os valores especificados e retorna aquele com o melhor desempenho para a métrica escolhida, que no nosso caso é o F1."
      ]
    },
    {
      "cell_type": "markdown",
      "metadata": {
        "id": "ipQoKAS0VB5P"
      },
      "source": [
        "##5.1 Gradient Boosting"
      ]
    },
    {
      "cell_type": "code",
      "metadata": {
        "id": "wGhAfdFFJEol",
        "outputId": "b5c96c12-afcf-49ff-f7d5-6c8d965cece0"
      },
      "source": [
        "parametros_Grad = { 'n_estimators' : np.arange(20,101,10), \n",
        "                    'learning_rate' : np.arange(0.01,0.32,0.03),\n",
        "                    'max_depth': np.arange(3,10,3)\n",
        "                 }\n",
        "\n",
        "modeloGrad = GradientBoostingClassifier()\n",
        "validacao = RepeatedStratifiedKFold(n_splits = 10, n_repeats = 10)\n",
        "\n",
        "grid_Grad = GridSearchCV(modeloGrad, param_grid = parametros_Grad,\n",
        "                                  scoring = 'f1', cv = validacao, \n",
        "                                  verbose = 1, n_jobs = -1)\n",
        "\n",
        "grid_Grad.fit(Xtreino_3, Ytreino_3)\n",
        "melhor_Grad = grid_Grad.best_estimator_\n",
        "\n",
        "print('\\nF1-Score: {:.4f}'.format(grid_Grad.best_score_))\n",
        "print('Melhores parâmetros: {}\\n'.format(grid_Grad.best_params_))\n"
      ],
      "execution_count": null,
      "outputs": [
        {
          "output_type": "stream",
          "text": [
            "Fitting 100 folds for each of 297 candidates, totalling 29700 fits\n"
          ],
          "name": "stdout"
        },
        {
          "output_type": "stream",
          "text": [
            "[Parallel(n_jobs=-1)]: Using backend LokyBackend with 4 concurrent workers.\n",
            "[Parallel(n_jobs=-1)]: Done  42 tasks      | elapsed:    8.4s\n",
            "[Parallel(n_jobs=-1)]: Done 192 tasks      | elapsed:   24.4s\n",
            "[Parallel(n_jobs=-1)]: Done 442 tasks      | elapsed:  1.2min\n",
            "[Parallel(n_jobs=-1)]: Done 792 tasks      | elapsed:  3.0min\n",
            "[Parallel(n_jobs=-1)]: Done 1242 tasks      | elapsed:  5.2min\n",
            "[Parallel(n_jobs=-1)]: Done 1792 tasks      | elapsed: 10.7min\n",
            "[Parallel(n_jobs=-1)]: Done 2442 tasks      | elapsed: 18.7min\n",
            "[Parallel(n_jobs=-1)]: Done 3192 tasks      | elapsed: 26.2min\n",
            "[Parallel(n_jobs=-1)]: Done 4042 tasks      | elapsed: 30.6min\n",
            "[Parallel(n_jobs=-1)]: Done 4992 tasks      | elapsed: 40.9min\n",
            "[Parallel(n_jobs=-1)]: Done 6042 tasks      | elapsed: 52.3min\n",
            "[Parallel(n_jobs=-1)]: Done 7192 tasks      | elapsed: 60.9min\n",
            "[Parallel(n_jobs=-1)]: Done 8442 tasks      | elapsed: 76.3min\n",
            "[Parallel(n_jobs=-1)]: Done 9792 tasks      | elapsed: 84.9min\n",
            "[Parallel(n_jobs=-1)]: Done 11242 tasks      | elapsed: 102.0min\n",
            "[Parallel(n_jobs=-1)]: Done 12792 tasks      | elapsed: 112.9min\n",
            "[Parallel(n_jobs=-1)]: Done 14442 tasks      | elapsed: 129.8min\n",
            "[Parallel(n_jobs=-1)]: Done 16192 tasks      | elapsed: 151.3min\n",
            "[Parallel(n_jobs=-1)]: Done 18042 tasks      | elapsed: 162.4min\n",
            "[Parallel(n_jobs=-1)]: Done 19992 tasks      | elapsed: 181.1min\n",
            "[Parallel(n_jobs=-1)]: Done 22042 tasks      | elapsed: 203.5min\n",
            "[Parallel(n_jobs=-1)]: Done 24192 tasks      | elapsed: 225.1min\n",
            "[Parallel(n_jobs=-1)]: Done 26442 tasks      | elapsed: 241.8min\n",
            "[Parallel(n_jobs=-1)]: Done 28792 tasks      | elapsed: 264.2min\n",
            "[Parallel(n_jobs=-1)]: Done 29700 out of 29700 | elapsed: 279.1min finished\n"
          ],
          "name": "stderr"
        },
        {
          "output_type": "stream",
          "text": [
            "\n",
            "F1-Score: 0.6957\n",
            "Melhores parâmetros: {'learning_rate': 0.01, 'max_depth': 3, 'n_estimators': 20}\n",
            "\n"
          ],
          "name": "stdout"
        }
      ]
    },
    {
      "cell_type": "markdown",
      "metadata": {
        "id": "wkFWw2BWTtj9"
      },
      "source": [
        "Os melhores parâmetros para o _Gradient_ levaram o modelo a alcançar o F1-Score de 69,57%. Um resultado muito bom se comparado com os outros modelos.\n",
        "\n",
        "Melhores parâmetros: {'learning_rate': 0.01, 'max_depth': 3, 'n_estimators': 20}"
      ]
    },
    {
      "cell_type": "markdown",
      "metadata": {
        "id": "JPd3FnBuVGqf"
      },
      "source": [
        "##5.2 Randon Forest"
      ]
    },
    {
      "cell_type": "code",
      "metadata": {
        "id": "hpf72BJdvzZd",
        "outputId": "c8f87f67-56cf-4fbb-8491-ff03b2d5c6cf"
      },
      "source": [
        "profundidade = np.arange(2, 17, 2)\n",
        "parametros = {   \n",
        "                 'max_depth' : profundidade, #profundidade da floresta\n",
        "                 #'n_estimators': [50, 150, 200], # Réplicas boostrap feitas\n",
        "                 'max_samples' : [50, 150, 200],\n",
        "                 'min_samples_split': [5,10,16,20,30],\n",
        "                 'max_features': ['sqrt', 'auto', 'log2'], #minimo de amostras nas folhas\n",
        "                 }\n",
        "\n",
        "validacao = RepeatedStratifiedKFold(n_splits = 10, n_repeats = 10)\n",
        "modelo = RandomForestClassifier()\n",
        "grid_rf = GridSearchCV(modelo, param_grid = parametros,\n",
        "                                  scoring = 'f1', cv = validacao, \n",
        "                                  verbose = 1, n_jobs = -1)\n",
        "\n",
        "grid_rf.fit(Xtreino_3, Ytreino_3)#Treina o algorítimo com as especificações acima buscando melhores paramêtros\n",
        "melhor_rf = grid_rf.best_estimator_\n",
        "\n",
        "print('\\nF1-Score: {:.4f}'.format(grid_rf.best_score_))\n",
        "print('Melhores parâmetros: {}\\n'.format(grid_rf.best_params_))\n"
      ],
      "execution_count": null,
      "outputs": [
        {
          "output_type": "stream",
          "text": [
            "Fitting 100 folds for each of 360 candidates, totalling 36000 fits\n"
          ],
          "name": "stdout"
        },
        {
          "output_type": "stream",
          "text": [
            "[Parallel(n_jobs=-1)]: Using backend LokyBackend with 4 concurrent workers.\n",
            "[Parallel(n_jobs=-1)]: Done  42 tasks      | elapsed:    5.9s\n",
            "[Parallel(n_jobs=-1)]: Done 192 tasks      | elapsed:   25.4s\n",
            "[Parallel(n_jobs=-1)]: Done 442 tasks      | elapsed:   58.6s\n",
            "[Parallel(n_jobs=-1)]: Done 792 tasks      | elapsed:  1.7min\n",
            "[Parallel(n_jobs=-1)]: Done 1242 tasks      | elapsed:  2.7min\n",
            "[Parallel(n_jobs=-1)]: Done 1792 tasks      | elapsed:  3.9min\n",
            "[Parallel(n_jobs=-1)]: Done 2442 tasks      | elapsed:  5.4min\n",
            "[Parallel(n_jobs=-1)]: Done 3192 tasks      | elapsed:  7.0min\n",
            "[Parallel(n_jobs=-1)]: Done 4042 tasks      | elapsed:  8.9min\n",
            "[Parallel(n_jobs=-1)]: Done 4992 tasks      | elapsed: 11.0min\n",
            "[Parallel(n_jobs=-1)]: Done 6042 tasks      | elapsed: 13.4min\n",
            "[Parallel(n_jobs=-1)]: Done 7192 tasks      | elapsed: 15.9min\n",
            "[Parallel(n_jobs=-1)]: Done 8442 tasks      | elapsed: 18.7min\n",
            "[Parallel(n_jobs=-1)]: Done 9792 tasks      | elapsed: 21.7min\n",
            "[Parallel(n_jobs=-1)]: Done 11242 tasks      | elapsed: 25.0min\n",
            "[Parallel(n_jobs=-1)]: Done 12792 tasks      | elapsed: 28.5min\n",
            "[Parallel(n_jobs=-1)]: Done 14442 tasks      | elapsed: 32.3min\n",
            "[Parallel(n_jobs=-1)]: Done 16192 tasks      | elapsed: 36.3min\n",
            "[Parallel(n_jobs=-1)]: Done 18042 tasks      | elapsed: 40.5min\n",
            "[Parallel(n_jobs=-1)]: Done 19992 tasks      | elapsed: 44.9min\n",
            "[Parallel(n_jobs=-1)]: Done 22042 tasks      | elapsed: 49.6min\n",
            "[Parallel(n_jobs=-1)]: Done 24192 tasks      | elapsed: 54.6min\n",
            "[Parallel(n_jobs=-1)]: Done 26442 tasks      | elapsed: 59.7min\n",
            "[Parallel(n_jobs=-1)]: Done 28792 tasks      | elapsed: 65.1min\n",
            "[Parallel(n_jobs=-1)]: Done 31242 tasks      | elapsed: 70.7min\n",
            "[Parallel(n_jobs=-1)]: Done 33792 tasks      | elapsed: 76.5min\n",
            "[Parallel(n_jobs=-1)]: Done 36000 out of 36000 | elapsed: 81.6min finished\n"
          ],
          "name": "stderr"
        },
        {
          "output_type": "stream",
          "text": [
            "\n",
            "F1-Score: 0.6786\n",
            "Melhores parâmetros: {'max_depth': 2, 'max_features': 'auto', 'max_samples': 200, 'min_samples_split': 16}\n",
            "\n"
          ],
          "name": "stdout"
        }
      ]
    },
    {
      "cell_type": "markdown",
      "metadata": {
        "id": "PrG9tB5rT2IS"
      },
      "source": [
        "A _Randon Forest_ teve um desempenho bem parecido com os parâmetros bases, sem que os ajustes dos hiperparâmetros resultassem em melhores resultados.\n",
        "\n",
        "Melhores parâmetros: {'max_depth': 2, 'max_features': 'auto', 'max_samples': 200, 'min_samples_split': 16}"
      ]
    },
    {
      "cell_type": "markdown",
      "metadata": {
        "id": "-g5nPcSFltJb"
      },
      "source": [
        "##5.3 SVM (Suport Vector Machine)\n",
        "\n",
        "\n",
        "\n",
        "\n"
      ]
    },
    {
      "cell_type": "code",
      "metadata": {
        "id": "fqB55tMPTXG7",
        "outputId": "40f29ea5-f2e4-4667-b445-4a7491e2a4dd"
      },
      "source": [
        "param_grid = {'C': [0.1, 1, 10] ,'gamma': [0.001, 0.01, 0.1, 'scale'], 'kernel': ['rbf', 'poly', 'linear']}\n",
        "                  \n",
        "modeloSVC = SVC()\n",
        "validacao = RepeatedStratifiedKFold(n_splits = 10, n_repeats = 10)\n",
        "\n",
        "grid_SVC = GridSearchCV(modeloSVC, param_grid = param_grid,\n",
        "                                  scoring = 'f1', cv = validacao, \n",
        "                                  verbose = 1, n_jobs = -1)#n_jobs = usa VARIOS CLUSTERS\n",
        "\n",
        "grid_SVC.fit(Xtreino_3, Ytreino_3)\n",
        "melhor_SVC = grid_SVC.best_estimator_\n",
        "\n",
        "print('\\F1-Score: {:.4f}'.format(grid_SVC.best_score_))\n",
        "print('Melhores parâmetros: {}\\n'.format(grid_SVC.best_params_))\n"
      ],
      "execution_count": null,
      "outputs": [
        {
          "output_type": "stream",
          "text": [
            "Fitting 100 folds for each of 36 candidates, totalling 3600 fits\n"
          ],
          "name": "stdout"
        },
        {
          "output_type": "stream",
          "text": [
            "[Parallel(n_jobs=-1)]: Using backend LokyBackend with 4 concurrent workers.\n",
            "[Parallel(n_jobs=-1)]: Done  42 tasks      | elapsed:   50.5s\n",
            "[Parallel(n_jobs=-1)]: Done 192 tasks      | elapsed:  2.9min\n",
            "[Parallel(n_jobs=-1)]: Done 442 tasks      | elapsed:  6.3min\n",
            "[Parallel(n_jobs=-1)]: Done 792 tasks      | elapsed: 11.6min\n",
            "[Parallel(n_jobs=-1)]: Done 1242 tasks      | elapsed: 17.5min\n",
            "[Parallel(n_jobs=-1)]: Done 1792 tasks      | elapsed: 25.9min\n",
            "[Parallel(n_jobs=-1)]: Done 2442 tasks      | elapsed: 42.1min\n",
            "[Parallel(n_jobs=-1)]: Done 3192 tasks      | elapsed: 195.6min\n",
            "[Parallel(n_jobs=-1)]: Done 3600 out of 3600 | elapsed: 273.3min finished\n"
          ],
          "name": "stderr"
        },
        {
          "output_type": "stream",
          "text": [
            "\\F1-Score: 0.6823\n",
            "Melhores parâmetros: {'C': 0.1, 'gamma': 0.1, 'kernel': 'rbf'}\n",
            "\n"
          ],
          "name": "stdout"
        }
      ]
    },
    {
      "cell_type": "markdown",
      "metadata": {
        "id": "IKHyutaTUll-"
      },
      "source": [
        "Vemos que apesar do algoritmo base do SVM ter mostrado o _kernel poly_ como melhor, na busca _Grid_ o _kernel RBF_ levou a melhor.\n",
        "\n",
        "Melhores parâmetros: {'C': 0.1, 'gamma': 0.1, 'kernel': 'rbf'}"
      ]
    },
    {
      "cell_type": "markdown",
      "metadata": {
        "id": "sqBlitlTvTe7"
      },
      "source": [
        "---"
      ]
    },
    {
      "cell_type": "markdown",
      "metadata": {
        "id": "bJZ049aAB5iN"
      },
      "source": [
        "#6 Combinação por Votos\n",
        "\n",
        "Encontrado os melhores hiperparâmetros para os modelos, vamos combinar os 3 e fazer um teste antes de submetermos para competição."
      ]
    },
    {
      "cell_type": "code",
      "metadata": {
        "id": "-F5p1PY7R15D"
      },
      "source": [
        "modelo_Grad = GradientBoostingClassifier(learning_rate = 0.01, max_depth = 3, n_estimators = 20)\n",
        "\n",
        "modelo_Randon = RandomForestClassifier(max_depth = 2, max_features = 'auto', max_samples = 200, \n",
        "                                       min_samples_split = 16)\n",
        "\n",
        "modelo_SVM = SVC(kernel = 'rbf', C = 0.1, gamma = 0.1)"
      ],
      "execution_count": null,
      "outputs": []
    },
    {
      "cell_type": "code",
      "metadata": {
        "id": "CAohBx5tE8bK",
        "outputId": "64aecd76-2c83-41df-d943-df00beb4fcfd"
      },
      "source": [
        "validacao = RepeatedStratifiedKFold(n_splits = 10, n_repeats = 10)\n",
        "\n",
        "#LISTA DE MODELOS - Nome do modelo + instancia do modelo\n",
        "modelos = [('Gradiente', modelo_Grad), ('Árvore', modelo_Randon),  ('SVM ', modelo_SVM)]\n",
        "#modelo de votos soft implementado\n",
        "modelo = VotingClassifier(modelos, voting = 'hard')\n",
        "\n",
        "#medidas apuradas do modelo selecionado, vendo apenas a métrica F1-Score com o método kfold repetido\n",
        "medidas = cross_validate(modelo, Xtreino_3, Ytreino_3, cv = validacao, scoring = 'f1', verbose = 2, n_jobs = -1)\n",
        "medidas['test_score'].mean()#resultado para cada iteração e para cada repetição"
      ],
      "execution_count": null,
      "outputs": [
        {
          "output_type": "stream",
          "text": [
            "[Parallel(n_jobs=-1)]: Using backend LokyBackend with 4 concurrent workers.\n",
            "[Parallel(n_jobs=-1)]: Done  33 tasks      | elapsed:  1.9min\n",
            "[Parallel(n_jobs=-1)]: Done 100 out of 100 | elapsed:  5.1min finished\n"
          ],
          "name": "stderr"
        },
        {
          "output_type": "execute_result",
          "data": {
            "text/plain": [
              "0.6959221060664104"
            ]
          },
          "metadata": {
            "tags": []
          },
          "execution_count": 39
        }
      ]
    },
    {
      "cell_type": "markdown",
      "metadata": {
        "id": "-Ulz4HFYVPJB"
      },
      "source": [
        "A combinação de modelos sugere um leve aumento se comparado com o _GradientBoosting_ sozinho. \n",
        "\n",
        "Mas foi um aumento significante para a colocação final no desafio."
      ]
    },
    {
      "cell_type": "markdown",
      "metadata": {
        "id": "h9LUeZVyNoQO"
      },
      "source": [
        "#7 Submissão\n",
        "\n",
        "Agora que temos os melhores modelos e as melhores técnicas para tratamento do conjunto de dados, vamos aplicar o mesmo pré-processamento ao conjunto de dados da submissão, treinar os modelos com todo conjunto de dados de teste e preparar o arquivo de submissão para a competição."
      ]
    },
    {
      "cell_type": "markdown",
      "metadata": {
        "id": "86d852I3i-Qb"
      },
      "source": [
        "##7.1 Pré-Processamento Submissão"
      ]
    },
    {
      "cell_type": "code",
      "metadata": {
        "id": "d4s6KgpxgY30"
      },
      "source": [
        "#Fazendo o Mapeamento de categorias bivariadas\n",
        "data_sub_map = data_sub.copy()\n",
        "data_sub_map['default'] = data_sub_map['default'].map({'yes': 1, 'no':0})\n",
        "data_sub_map['housing'] = data_sub_map['housing'].map({'yes': 1, 'no':0})\n",
        "data_sub_map['loan'] = data_sub_map['loan'].map({'yes': 1, 'no':0})"
      ],
      "execution_count": null,
      "outputs": []
    },
    {
      "cell_type": "markdown",
      "metadata": {
        "id": "dBHLPFCkqn9k"
      },
      "source": [
        "Aplicando o tratamento misto para variáveis categóricas\n",
        "\n",
        "Aqui vale destacar o _Data Liquid_, que é a influência dos dados de treinamento sobre o conjunto de dados da submissão, que não deveriam ter ligação. Isso porque, quando o conjunto de dados que você usa para treinar seu algoritmo tem ligação com o conjunto de dados que você usa para validar seu modelo, existe uma tendência do seu algoritmo não ter a independência teórica que deveria. Isto é, quando pegamos os \"pesos\" que atribuímos para _marital_ e só repassamos para o outro conjunto, este estará influenciado pelos valores gerados anteriormente.\n",
        "\n",
        "Mas isso não é um problema, esse processo acaba sendo necessário na maioria das vezes e não compromete a capacidade de generalização dos algoritmos."
      ]
    },
    {
      "cell_type": "code",
      "metadata": {
        "id": "KcsYl9GVgifH"
      },
      "source": [
        "data_sub_mista = data_sub_map.copy()\n",
        "#Numerificando a coluna month de forma convencional\n",
        "data_sub_mista['month'] = data_sub_mista['month'].map({'jan': 0, 'feb': 1,'mar': 2, 'apr': 3,\n",
        "                                                                         'may': 4, 'jun': 5,'jul': 6, 'aug': 7,\n",
        "                                                                         'sep': 8, 'oct': 9,'nov': 10, 'dec': 11,})\n",
        "#Atribuindo \"Pesos\" a variáeis categóricas antes de numerificar\n",
        "#Os pesos ja foram definidos no conjunto de treino, aqui só aplicarei esses valores ja calculados\n",
        "data_sub_mista['job']=data_sub_mista['job'].map(data_treino_job)\n",
        "data_sub_mista['education']=data_sub_mista['education'].map(data_treino_edu)\n",
        "data_sub_mista['marital']=data_sub_mista['marital'].map(data_treino_mar)\n",
        "\n",
        "#As colunas Contact e poutcome serão dumificadas\n",
        "data_sub_mista = pd.get_dummies(data_sub_mista, columns= ['contact', 'poutcome'])\n",
        "data_sub_mista.head()"
      ],
      "execution_count": null,
      "outputs": []
    },
    {
      "cell_type": "code",
      "metadata": {
        "id": "5iNluFlYgpxL"
      },
      "source": [
        "#Normalizando os valores\n",
        "aux0 = sc.transform(data_sub_mista[['age','balance', 'pdays', 'previous', 'day']])#sem o fit, ele ja foi feito na etapa passada, sem vazamento de dados\n",
        "aux1 = pd.DataFrame(aux0, columns = ['idade', 'Saldo_conta', 'dias_Contato', 'Previo', 'dia'])\n",
        "data_sub_norm = pd.concat([data_sub_mista, aux1], axis = 1)\n",
        "data_sub_norm.drop(['age','balance', 'pdays', 'previous', 'day'], axis = 1, inplace = True)\n"
      ],
      "execution_count": null,
      "outputs": []
    },
    {
      "cell_type": "code",
      "metadata": {
        "id": "EVszIAFMg2ab"
      },
      "source": [
        "#Aplicando a segunda normalização\n",
        "aux2 = sc2.transform(data_sub_norm[['job','education', 'marital']])#faz o ajuste, calculo da média e do desvio padrão. (- a mpedia) / desvio padrão\n",
        "aux3 = pd.DataFrame(aux2, columns = ['Ocupacao', 'escolaridade', 'civil'])#transforma num data frame o numpy array e adicionado ao data frame\n",
        "data_sub_norm2 = pd.concat([data_sub_norm, aux3], axis = 1)#concatena com o o conjunto de dados\n",
        "data_sub_norm2.drop(['job','education', 'marital'], axis = 1, inplace = True) #dropa as colunas antigas do conjunto de dados\n",
        "data_sub_norm2.head()"
      ],
      "execution_count": null,
      "outputs": []
    },
    {
      "cell_type": "markdown",
      "metadata": {
        "id": "kqPuqYzUhATX"
      },
      "source": [
        "#7.2 Fazendo a submissão\n",
        "\n",
        "Agora vamos utilizar todo o conjunto de dados de teste para treinar novos modelos, fazer a combinação por votos e classificar as entradas do conjunto fornecido para submissão (1422 linhas). \n",
        "\n",
        "Guardaremos apenas as respostas (_term_deposit_) na mesma ordem que foi fornecida em um arquivo .csv. \n",
        "\n"
      ]
    },
    {
      "cell_type": "code",
      "metadata": {
        "id": "F0zL6pX_NqUu"
      },
      "source": [
        "modelos_sub = [('Gradiente', modelo_Grad), ('Árvore', modelo_Randon), ('SVM RBF', modelo_SVM_RBF),('Modelo Ada', modelo_Ada) , ('SVM Linear', modelo_SVM_Linear)]\n",
        "modelo_sub = VotingClassifier(modelos_sub, voting = 'hard')\n",
        "\n",
        "modelo_sub.fit(Xtreino_3, Ytreino_3)\n",
        "pred_sub = modelo_sub.predict(data_sub_norm2)"
      ],
      "execution_count": null,
      "outputs": []
    },
    {
      "cell_type": "code",
      "metadata": {
        "id": "3ORwpAwlN5Fb"
      },
      "source": [
        "\n",
        "predicao_final = pd.DataFrame()\n",
        "predicao_final['term_deposit'] = pred_sub\n",
        "#Escrevendo CSV\n",
        "predicao_final.to_csv('D:\\Submissão.csv', index = False)"
      ],
      "execution_count": null,
      "outputs": []
    },
    {
      "cell_type": "code",
      "metadata": {
        "colab": {
          "base_uri": "https://localhost:8080/",
          "height": 300
        },
        "id": "lhu8JUW-Nvw3",
        "outputId": "0714c920-a744-4a87-a11e-e91e9c81d16f"
      },
      "source": [
        "predicao_final.info()"
      ],
      "execution_count": null,
      "outputs": [
        {
          "output_type": "execute_result",
          "data": {
            "text/html": [
              "<div>\n",
              "<style scoped>\n",
              "    .dataframe tbody tr th:only-of-type {\n",
              "        vertical-align: middle;\n",
              "    }\n",
              "\n",
              "    .dataframe tbody tr th {\n",
              "        vertical-align: top;\n",
              "    }\n",
              "\n",
              "    .dataframe thead th {\n",
              "        text-align: right;\n",
              "    }\n",
              "</style>\n",
              "<table border=\"1\" class=\"dataframe\">\n",
              "  <thead>\n",
              "    <tr style=\"text-align: right;\">\n",
              "      <th></th>\n",
              "      <th>term_deposit</th>\n",
              "    </tr>\n",
              "  </thead>\n",
              "  <tbody>\n",
              "    <tr>\n",
              "      <th>count</th>\n",
              "      <td>1422.000000</td>\n",
              "    </tr>\n",
              "    <tr>\n",
              "      <th>mean</th>\n",
              "      <td>0.580872</td>\n",
              "    </tr>\n",
              "    <tr>\n",
              "      <th>std</th>\n",
              "      <td>0.493590</td>\n",
              "    </tr>\n",
              "    <tr>\n",
              "      <th>min</th>\n",
              "      <td>0.000000</td>\n",
              "    </tr>\n",
              "    <tr>\n",
              "      <th>25%</th>\n",
              "      <td>0.000000</td>\n",
              "    </tr>\n",
              "    <tr>\n",
              "      <th>50%</th>\n",
              "      <td>1.000000</td>\n",
              "    </tr>\n",
              "    <tr>\n",
              "      <th>75%</th>\n",
              "      <td>1.000000</td>\n",
              "    </tr>\n",
              "    <tr>\n",
              "      <th>max</th>\n",
              "      <td>1.000000</td>\n",
              "    </tr>\n",
              "  </tbody>\n",
              "</table>\n",
              "</div>"
            ],
            "text/plain": [
              "       term_deposit\n",
              "count   1422.000000\n",
              "mean       0.580872\n",
              "std        0.493590\n",
              "min        0.000000\n",
              "25%        0.000000\n",
              "50%        1.000000\n",
              "75%        1.000000\n",
              "max        1.000000"
            ]
          },
          "metadata": {
            "tags": []
          },
          "execution_count": 56
        }
      ]
    },
    {
      "cell_type": "markdown",
      "metadata": {
        "id": "97zIquzkl-lJ"
      },
      "source": [
        "#8 Conclusões\n",
        "Durante a análise exploratória conseguimos identificar alguns fatores ligados ao tipo de cargo ocupado, que levam a uma maior taxa de depósito, ou o oposto. Essa relação também foi encontrada quanto ao estado civil do cliente. Mas nenhuma delas foi capaz de nos dizer isoladamente se o depósito do cliente teria uma chance absoluta de ocorrer ou não, por isso o emprego de modelos de machine learning se mostram uma ótima alternativa de relacionar informações.\n",
        "\n",
        "Ainda na análise exploratória foi identificada uma redundância de informações ligadas a campanhas anteriores, que identificam clientes novos ou nunca contatados anteriormente, mas que não indicam se teriam maior sucesso de depósito ou não.\n",
        "\n",
        "Grande parte dos clientes contatados em determinados dias sugerem maior chance de depósito, podendo o dia estar ligado com a data de recebimento do pagamento.\n",
        "\n",
        "Nos meses do meio do ano (maio, junho e julho) estão concentradas a maior atividade da campanha, mas resultando em mais respostas negativas do que positivas, ao contrário de meses do fim de ano e de março, que tem maior resposta positiva a campanha. Os esforços da campanha deveriam ser redirecionados para esses meses para obter um melhor resultado.\n",
        "\n",
        "A combinação dos modelos de _GradientBoosting, RandonForest e SVM_ obteve resultados melhores que qualquer um dos três algoritmos sozinhos, e apesar de apenas o _Gradient_ ter alcançado os 69% de F1, a combinação com modelos mais fracos levou a resultados melhores. Uma possibilidade é que enquanto alguns algoritmos obtiveram uma melhor precisão, outro teve um melhor _recall_.\n",
        "\n",
        "\n",
        "\n"
      ]
    },
    {
      "cell_type": "markdown",
      "metadata": {
        "id": "Q7Oz751Mmi7s"
      },
      "source": [
        "#9 Considerações e Melhorias futuras\n",
        "\n",
        "O alto custo computacional foi um fator limitante para este projeto, mas uma melhoria no pré-processamento se mostrou mais eficaz do que uma tunagem de hiperparâmetros, por exemplo. Isso mostra que a qualidade do conjunto de dados tem maior impacto no resultado final do que os algoritmos empregados.\n",
        "\n",
        "A abordagem com \"pesos\" para algumas categorias pode ser bem arbitrário e depende muito do conjunto de dados, uma abordagem tomada aqui, pode não ser a melhor para outro conjunto.\n",
        "\n",
        "O tratamento de outliers nem sempre é algo preciso, pode-se tentar diminuir esses valores pelos extremos dos quartis, ao invés de elimina-los.\n",
        "\n",
        "Seria interessante relacionar as colunas dia e mês, e possivelmente fazer uma análise temporal deste problema.\n",
        "\n",
        "Um possivem ajuste na campanha seria segmentar os clientes e passar a oferecer produtos ou fazer campanhas diferenciadas de acordo com os clientes que tem maior poder aquisitvo ou melhor estabilidade no emprego.\n",
        "\n",
        "Deixarei aqui meu contato, para qualquer dúvida, sugestão ou crítica. Sempre será bem-vinda qualquer ajuda :)\n",
        "\n",
        "\n",
        "---\n",
        "* [Meu LinkedIn](https://www.linkedin.com/in/leandro-coelhos/) \n",
        "* [Meus Projetos podem ser vistos aqui](https://github.com/LeandroCoelhos)\n",
        "\n",
        "---\n",
        "\n",
        "As respostas estão de posse somente da Flai.\n",
        "\n",
        "Foram limitadas as submissões para apenas 5 tentativas.\n",
        "\n",
        "Para cada submissão foi tentada uma abordagem diferente. Esse projeto apresenta de forma resumida as técnicas empregadas ao longo de toda competição. \n",
        "\n",
        "<img src=\"https://raw.githubusercontent.com/LeandroCoelhos/desafio_flai/main/data/Placar%20FInal%20Flai.jpeg\" />\n",
        "\n"
      ]
    }
  ]
}